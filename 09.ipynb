{
 "cells": [
  {
   "cell_type": "code",
   "execution_count": 2,
   "metadata": {},
   "outputs": [],
   "source": [
    "import boilerplate\n",
    "l = boilerplate.get_input_lines(2022, 9).splitlines()"
   ]
  },
  {
   "cell_type": "code",
   "execution_count": 4,
   "metadata": {},
   "outputs": [
    {
     "data": {
      "text/plain": [
       "5907"
      ]
     },
     "execution_count": 4,
     "metadata": {},
     "output_type": "execute_result"
    }
   ],
   "source": [
    "def c(v, g):\n",
    "    return max(min(v, g), -g)\n",
    "\n",
    "def simulate(l, length):\n",
    "    ts = [(0, 0) for _ in range(length+1)]\n",
    "    v = set()\n",
    "    dirs = {\"R\": (1, 0), \"U\": (0, 1), \"L\": (-1, 0), \"D\": (0, -1)}\n",
    "    for e in l:\n",
    "        d, a = e.split()\n",
    "        for i in range(int(a)):\n",
    "            v.add(ts[-1])\n",
    "            ts[0] = (ts[0][0] + dirs[d][0], ts[0][1] + dirs[d][1])\n",
    "            for (i, h), t in zip(enumerate(ts), ts[1:]):\n",
    "                m = (h[0] - t[0], h[1] - t[1])\n",
    "                if any(abs(x) > 1 for x in m):\n",
    "                    k = (c(m[0], 1), c(m[1], 1))\n",
    "                    ts[i+1] = (t[0] + k[0], t[1] + k[1])\n",
    "\n",
    "    return len(v)\n",
    "\n",
    "simulate(l, 1)"
   ]
  },
  {
   "cell_type": "code",
   "execution_count": 5,
   "metadata": {},
   "outputs": [
    {
     "data": {
      "text/plain": [
       "2303"
      ]
     },
     "execution_count": 5,
     "metadata": {},
     "output_type": "execute_result"
    }
   ],
   "source": [
    "simulate(l, 9)"
   ]
  },
  {
   "cell_type": "code",
   "execution_count": null,
   "metadata": {},
   "outputs": [],
   "source": [
    "def draw(v):\n",
    "    mx, Mx, my, My = min(e.x for e in v), max(e.x for e in v), min(e.y for e in v), max(e.y for e in v)\n",
    "    d = [[\"*\" for _ in range(Mx-mx+1)] for __ in range(My-my+1)]\n",
    "    for e in v:\n",
    "        d[My-e.y+my][e.x-mx] = \"#\"\n",
    "\n",
    "    print(\"\\n\".join(\"\".join(x for x in p) for p in d)) "
   ]
  },
  {
   "cell_type": "code",
   "execution_count": null,
   "metadata": {},
   "outputs": [],
   "source": [
    "e"
   ]
  },
  {
   "cell_type": "code",
   "execution_count": null,
   "metadata": {},
   "outputs": [],
   "source": []
  }
 ],
 "metadata": {
  "kernelspec": {
   "display_name": "advent-of-code",
   "language": "python",
   "name": "python3"
  },
  "language_info": {
   "codemirror_mode": {
    "name": "ipython",
    "version": 3
   },
   "file_extension": ".py",
   "mimetype": "text/x-python",
   "name": "python",
   "nbconvert_exporter": "python",
   "pygments_lexer": "ipython3",
   "version": "3.8.10"
  },
  "orig_nbformat": 4,
  "vscode": {
   "interpreter": {
    "hash": "748cf6f10333ddbed3841e6784b9ba61851c4393602f2f38e72974c854bef4ba"
   }
  }
 },
 "nbformat": 4,
 "nbformat_minor": 2
}
