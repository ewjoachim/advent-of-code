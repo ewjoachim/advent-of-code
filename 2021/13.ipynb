{
 "cells": [
  {
   "cell_type": "code",
   "execution_count": 45,
   "metadata": {},
   "outputs": [],
   "source": [
    "import boilerplate, itertools, math\n",
    "inp = boilerplate.get_input_lines(13)\n",
    "\n",
    "inp2 = \"\"\"939\n",
    "7,13,x,x,59,x,31,19\"\"\"\n",
    "\n",
    "a, b = inp.splitlines()\n",
    "a = int(a)\n",
    "d = {int(e): i for i, e in enumerate(b.split(\",\")) if e != \"x\"}\n",
    "b = list(d)\n"
   ]
  },
  {
   "cell_type": "code",
   "execution_count": 50,
   "metadata": {},
   "outputs": [
    {
     "data": {
      "text/plain": [
       "8063"
      ]
     },
     "execution_count": 50,
     "metadata": {},
     "output_type": "execute_result"
    }
   ],
   "source": [
    "f = lambda x: ( x - (a%x))\n",
    "c = min(b, key=f)\n",
    "f(c) * c"
   ]
  },
  {
   "cell_type": "code",
   "execution_count": 48,
   "metadata": {},
   "outputs": [
    {
     "data": {
      "text/plain": [
       "{23: 0, 41: 13, 733: 23, 13: 36, 17: 37, 19: 42, 29: 52, 449: 54, 37: 91}"
      ]
     },
     "execution_count": 48,
     "metadata": {},
     "output_type": "execute_result"
    }
   ],
   "source": [
    "d"
   ]
  },
  {
   "cell_type": "code",
   "execution_count": 52,
   "metadata": {},
   "outputs": [
    {
     "data": {
      "text/plain": [
       "1013728"
      ]
     },
     "execution_count": 52,
     "metadata": {},
     "output_type": "execute_result"
    }
   ],
   "source": [
    "a"
   ]
  },
  {
   "cell_type": "code",
   "execution_count": 83,
   "metadata": {},
   "outputs": [],
   "source": [
    "ll = sorted(d.items(), key=lambda x: x[0], reverse=True)"
   ]
  },
  {
   "cell_type": "code",
   "execution_count": 143,
   "metadata": {},
   "outputs": [],
   "source": [
    "def check(c, ll, target):\n",
    "    if len(ll) < 2:\n",
    "        print(len(ll))\n",
    "        print(c)\n",
    "    if not ll:\n",
    "        return True\n",
    "    (v, i), *ll = ll\n",
    "    if not c % v == - i % v:\n",
    "        return False\n",
    "    return check(c, ll)"
   ]
  },
  {
   "cell_type": "code",
   "execution_count": 144,
   "metadata": {},
   "outputs": [
    {
     "name": "stdout",
     "output_type": "stream",
     "text": [
      "1\n",
      "22287448932699\n",
      "1\n",
      "129850782353348\n",
      "1\n",
      "237414115773997\n",
      "1\n",
      "344977449194646\n",
      "1\n",
      "452540782615295\n",
      "1\n",
      "560104116035944\n",
      "1\n",
      "667667449456593\n",
      "1\n",
      "775230782877242\n",
      "0\n",
      "775230782877242\n",
      "found 775230782877242\n"
     ]
    }
   ],
   "source": [
    "candidate = 2011385695\n",
    "while True:\n",
    "    candidate += (2011385695 - 1512115206)\n",
    "    if check(candidate, ll):\n",
    "        print(\"found\", candidate)\n",
    "        break\n",
    "    "
   ]
  },
  {
   "cell_type": "code",
   "execution_count": 133,
   "metadata": {},
   "outputs": [
    {
     "data": {
      "text/plain": [
       "499270489"
      ]
     },
     "execution_count": 133,
     "metadata": {},
     "output_type": "execute_result"
    }
   ],
   "source": [
    "53009926673 - 52510656184"
   ]
  },
  {
   "cell_type": "markdown",
   "metadata": {},
   "source": [
    "... don't ask."
   ]
  },
  {
   "cell_type": "code",
   "execution_count": null,
   "metadata": {},
   "outputs": [],
   "source": []
  }
 ],
 "metadata": {
  "kernelspec": {
   "display_name": "Python 3",
   "language": "python",
   "name": "python3"
  },
  "language_info": {
   "codemirror_mode": {
    "name": "ipython",
    "version": 3
   },
   "file_extension": ".py",
   "mimetype": "text/x-python",
   "name": "python",
   "nbconvert_exporter": "python",
   "pygments_lexer": "ipython3",
   "version": "3.8.2"
  }
 },
 "nbformat": 4,
 "nbformat_minor": 4
}
