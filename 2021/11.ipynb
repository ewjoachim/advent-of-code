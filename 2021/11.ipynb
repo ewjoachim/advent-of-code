{
 "cells": [
  {
   "cell_type": "code",
   "execution_count": 75,
   "metadata": {},
   "outputs": [],
   "source": [
    "import boilerplate, itertools\n",
    "inp = tuple(boilerplate.get_input_lines(11).splitlines())\n",
    "\n",
    "inp2 = \"\"\".......#.\n",
    "...#.....\n",
    ".#.......\n",
    ".........\n",
    "..#L....#\n",
    "....#....\n",
    ".........\n",
    "#........\n",
    "...#.....\n",
    "\"\"\".splitlines()\n",
    "w, h = len(inp[0]), len(inp)"
   ]
  },
  {
   "cell_type": "code",
   "execution_count": 89,
   "metadata": {},
   "outputs": [],
   "source": [
    "def tick1(inp, i, l):\n",
    "    for j, c in enumerate(l):\n",
    "        if c == \".\":\n",
    "            yield \".\"\n",
    "            continue\n",
    "        jm = max(j-1, 0)\n",
    "        jM = min(j+2, w)\n",
    "        im = max(i-1, 0)\n",
    "        iM = min(i+2, h)\n",
    "        neigh = list(\n",
    "            n for e in inp[im:iM] for n in e[jm:jM]\n",
    "        )\n",
    "        neigh.remove(c)\n",
    "        occupied = neigh.count(\"#\")\n",
    "        if c == \"#\" and occupied > 3:\n",
    "            nc = \"L\"\n",
    "        elif c == \"L\" and occupied == 0:\n",
    "            nc = \"#\"\n",
    "        else:\n",
    "            nc = c\n",
    "        yield nc\n",
    "\n",
    "def main1():\n",
    "    lines = inp\n",
    "    while True:\n",
    "        changed = False\n",
    "        new_lines = tuple(\"\".join(tick1(lines, i, l)) for i, l in enumerate(lines))\n",
    "        if new_lines == lines:\n",
    "            break\n",
    "        lines = new_lines\n",
    "\n",
    "    return sum(e.count(\"#\") for e in new_lines)"
   ]
  },
  {
   "cell_type": "code",
   "execution_count": 95,
   "metadata": {},
   "outputs": [
    {
     "data": {
      "text/plain": [
       "2303"
      ]
     },
     "execution_count": 95,
     "metadata": {},
     "output_type": "execute_result"
    }
   ],
   "source": [
    "main1()"
   ]
  },
  {
   "cell_type": "code",
   "execution_count": 91,
   "metadata": {},
   "outputs": [],
   "source": [
    "direc = set(itertools.product((-1, 0, 1), (-1, 0, 1))) - {(0, 0)}\n",
    "def neigh2(inp, i, j):\n",
    "    for ii, jj in direc:\n",
    "        ni, nj = i, j\n",
    "        while True:\n",
    "            ni += ii\n",
    "            nj += jj\n",
    "            \n",
    "            if not 0 <= ni < h or not 0 <= nj < w:\n",
    "                break\n",
    "            c = inp[ni][nj]\n",
    "            if c != \".\":\n",
    "                yield c\n",
    "                break\n",
    "\n",
    "def tick2(inp, i, l):\n",
    "    for j, c in enumerate(l):\n",
    "        if c == \".\":\n",
    "            yield \".\"\n",
    "            continue\n",
    "        ne = list(neigh2(inp, i, j))\n",
    "        occupied = ne.count(\"#\")\n",
    "        if c == \"#\" and occupied > 4:\n",
    "            nc = \"L\"\n",
    "        elif c == \"L\" and occupied == 0:\n",
    "            nc = \"#\"\n",
    "        else:\n",
    "            nc = c\n",
    "        yield nc\n",
    "\n",
    "def main2():\n",
    "    lines = inp\n",
    "    w, h = len(inp[0]), len(inp)\n",
    "    while True:\n",
    "        changed = False\n",
    "        new_lines = tuple(\"\".join(tick2(lines, i, l)) for i, l in enumerate(lines))\n",
    "        if new_lines == lines:\n",
    "            break\n",
    "        lines = new_lines\n",
    "\n",
    "    return sum(e.count(\"#\") for e in new_lines)"
   ]
  },
  {
   "cell_type": "code",
   "execution_count": 93,
   "metadata": {},
   "outputs": [
    {
     "data": {
      "text/plain": [
       "2057"
      ]
     },
     "execution_count": 93,
     "metadata": {},
     "output_type": "execute_result"
    }
   ],
   "source": [
    "main2()"
   ]
  },
  {
   "cell_type": "code",
   "execution_count": 92,
   "metadata": {},
   "outputs": [
    {
     "name": "stdout",
     "output_type": "stream",
     "text": [
      "4.97 s ± 88.2 ms per loop (mean ± std. dev. of 7 runs, 1 loop each)\n"
     ]
    }
   ],
   "source": [
    "%%timeit\n",
    "main1()\n",
    "main2()"
   ]
  }
 ],
 "metadata": {
  "kernelspec": {
   "display_name": "Python 3",
   "language": "python",
   "name": "python3"
  },
  "language_info": {
   "codemirror_mode": {
    "name": "ipython",
    "version": 3
   },
   "file_extension": ".py",
   "mimetype": "text/x-python",
   "name": "python",
   "nbconvert_exporter": "python",
   "pygments_lexer": "ipython3",
   "version": "3.8.2"
  }
 },
 "nbformat": 4,
 "nbformat_minor": 4
}
