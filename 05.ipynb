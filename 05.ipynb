{
 "cells": [
  {
   "cell_type": "code",
   "execution_count": 4,
   "metadata": {},
   "outputs": [],
   "source": [
    "import boilerplate\n",
    "l = boilerplate.get_input_lines(2022, 5)"
   ]
  },
  {
   "cell_type": "code",
   "execution_count": 5,
   "metadata": {},
   "outputs": [],
   "source": [
    "a, b = l.split(\"\\n\\n\")"
   ]
  },
  {
   "cell_type": "code",
   "execution_count": 7,
   "metadata": {},
   "outputs": [
    {
     "name": "stdout",
     "output_type": "stream",
     "text": [
      "        [F] [Q]         [Q]        \n",
      "[B]     [Q] [V] [D]     [S]        \n",
      "[S] [P] [T] [R] [M]     [D]        \n",
      "[J] [V] [W] [M] [F]     [J]     [J]\n",
      "[Z] [G] [S] [W] [N] [D] [R]     [T]\n",
      "[V] [M] [B] [G] [S] [C] [T] [V] [S]\n",
      "[D] [S] [L] [J] [L] [G] [G] [F] [R]\n",
      "[G] [Z] [C] [H] [C] [R] [H] [P] [D]\n",
      " 1   2   3   4   5   6   7   8   9 \n"
     ]
    }
   ],
   "source": [
    "print(a)"
   ]
  },
  {
   "cell_type": "code",
   "execution_count": 52,
   "metadata": {},
   "outputs": [
    {
     "name": "stdout",
     "output_type": "stream",
     "text": [
      "WCZTHTMPS\n"
     ]
    }
   ],
   "source": [
    "lines =  a.splitlines()[::-1]\n",
    "stacks = {e: \"\" for e in lines[0][1::4]}\n",
    "for e in lines[1:]:\n",
    "    for i, c in enumerate(e[1::4], 1):\n",
    "        if c != \" \":\n",
    "            stacks[str(i)] += c\n",
    "\n",
    "for e in b.splitlines():\n",
    "    n, f, t = (k for k in e.split()[1::2])\n",
    "    n = int(n)\n",
    "    stacks[t] += stacks[f][-n:][::-1]\n",
    "    stacks[f] = stacks[f][:-n]\n",
    "\n",
    "print(\"\".join(e[-1] for e in stacks.values()))"
   ]
  },
  {
   "cell_type": "code",
   "execution_count": 53,
   "metadata": {},
   "outputs": [
    {
     "name": "stdout",
     "output_type": "stream",
     "text": [
      "BLSGJSDTS\n"
     ]
    }
   ],
   "source": [
    "lines =  a.splitlines()[::-1]\n",
    "stacks = {e: \"\" for e in lines[0][1::4]}\n",
    "for e in lines[1:]:\n",
    "    for i, c in enumerate(e[1::4], 1):\n",
    "        if c != \" \":\n",
    "            stacks[str(i)] += c\n",
    "\n",
    "for e in b.splitlines():\n",
    "    n, f, t = (k for k in e.split()[1::2])\n",
    "    n = int(n)\n",
    "    stacks[t] += stacks[f][-n:]\n",
    "    stacks[f] = stacks[f][:-n]\n",
    "\n",
    "print(\"\".join(e[-1] for e in stacks.values()))"
   ]
  },
  {
   "cell_type": "code",
   "execution_count": null,
   "metadata": {},
   "outputs": [],
   "source": []
  },
  {
   "cell_type": "code",
   "execution_count": null,
   "metadata": {},
   "outputs": [],
   "source": []
  }
 ],
 "metadata": {
  "kernelspec": {
   "display_name": "Python 3.8.10 ('advent-of-code')",
   "language": "python",
   "name": "python3"
  },
  "language_info": {
   "codemirror_mode": {
    "name": "ipython",
    "version": 3
   },
   "file_extension": ".py",
   "mimetype": "text/x-python",
   "name": "python",
   "nbconvert_exporter": "python",
   "pygments_lexer": "ipython3",
   "version": "3.8.10"
  },
  "orig_nbformat": 4,
  "vscode": {
   "interpreter": {
    "hash": "748cf6f10333ddbed3841e6784b9ba61851c4393602f2f38e72974c854bef4ba"
   }
  }
 },
 "nbformat": 4,
 "nbformat_minor": 2
}
