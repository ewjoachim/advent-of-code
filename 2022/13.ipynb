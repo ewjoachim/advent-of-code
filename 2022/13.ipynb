{
 "cells": [
  {
   "cell_type": "code",
   "execution_count": 1,
   "metadata": {},
   "outputs": [],
   "source": [
    "import boilerplate\n",
    "l = boilerplate.get_input_lines(2022, 13).split(\"\")"
   ]
  },
  {
   "cell_type": "code",
   "execution_count": 35,
   "metadata": {},
   "outputs": [
    {
     "name": "stdout",
     "output_type": "stream",
     "text": [
      "<class '__main__.L'> <class '__main__.L'>\n"
     ]
    },
    {
     "ename": "TypeError",
     "evalue": "object of type 'type' has no len()",
     "output_type": "error",
     "traceback": [
      "\u001b[0;31m---------------------------------------------------------------------------\u001b[0m",
      "\u001b[0;31mTypeError\u001b[0m                                 Traceback (most recent call last)",
      "Cell \u001b[0;32mIn[35], line 51\u001b[0m\n\u001b[1;32m     24\u001b[0m         \u001b[39mreturn\u001b[39;00m (\u001b[39mlen\u001b[39m(x) \u001b[39m<\u001b[39m\u001b[39m=\u001b[39m \u001b[39mlen\u001b[39m(y)) \u001b[39mand\u001b[39;00m \u001b[39mall\u001b[39m(ex \u001b[39m<\u001b[39m ey \u001b[39mfor\u001b[39;00m ex, ey \u001b[39min\u001b[39;00m \u001b[39mzip\u001b[39m(\u001b[39mself\u001b[39m\u001b[39m.\u001b[39ml, other\u001b[39m.\u001b[39ml))\n\u001b[1;32m     26\u001b[0m \u001b[39mfor\u001b[39;00m x, y \u001b[39min\u001b[39;00m [\n\u001b[1;32m     27\u001b[0m \u001b[39m# ([1,1,3,1,1],\u001b[39;00m\n\u001b[1;32m     28\u001b[0m \u001b[39m# [1,1,5,1,1]),\u001b[39;00m\n\u001b[0;32m   (...)\u001b[0m\n\u001b[1;32m     49\u001b[0m \u001b[39m# [1,[2,[3,[4,[5,6,0]]]],8,9]),\u001b[39;00m\n\u001b[1;32m     50\u001b[0m ]:\n\u001b[0;32m---> 51\u001b[0m     \u001b[39mprint\u001b[39m(x, y, L(x) \u001b[39m<\u001b[39;49m\u001b[39m=\u001b[39;49m L(y))\n",
      "File \u001b[0;32m/usr/local/Cellar/python@3.11/3.11.0/Frameworks/Python.framework/Versions/3.11/lib/python3.11/functools.py:98\u001b[0m, in \u001b[0;36m_le_from_lt\u001b[0;34m(self, other)\u001b[0m\n\u001b[1;32m     96\u001b[0m \u001b[39mdef\u001b[39;00m \u001b[39m_le_from_lt\u001b[39m(\u001b[39mself\u001b[39m, other):\n\u001b[1;32m     97\u001b[0m     \u001b[39m'\u001b[39m\u001b[39mReturn a <= b.  Computed by @total_ordering from (a < b) or (a == b).\u001b[39m\u001b[39m'\u001b[39m\n\u001b[0;32m---> 98\u001b[0m     op_result \u001b[39m=\u001b[39m \u001b[39mtype\u001b[39;49m(\u001b[39mself\u001b[39;49m)\u001b[39m.\u001b[39;49m\u001b[39m__lt__\u001b[39;49m(\u001b[39mself\u001b[39;49m, other)\n\u001b[1;32m     99\u001b[0m     \u001b[39mif\u001b[39;00m op_result \u001b[39mis\u001b[39;00m \u001b[39mNotImplemented\u001b[39m:\n\u001b[1;32m    100\u001b[0m         \u001b[39mreturn\u001b[39;00m op_result\n",
      "Cell \u001b[0;32mIn[35], line 24\u001b[0m, in \u001b[0;36mL.__lt__\u001b[0;34m(self, other)\u001b[0m\n\u001b[1;32m     21\u001b[0m     other\u001b[39m.\u001b[39ml \u001b[39m=\u001b[39m [y]\n\u001b[1;32m     22\u001b[0m \u001b[39mprint\u001b[39m(x, y)\n\u001b[0;32m---> 24\u001b[0m \u001b[39mreturn\u001b[39;00m (\u001b[39mlen\u001b[39;49m(x) \u001b[39m<\u001b[39m\u001b[39m=\u001b[39m \u001b[39mlen\u001b[39m(y)) \u001b[39mand\u001b[39;00m \u001b[39mall\u001b[39m(ex \u001b[39m<\u001b[39m ey \u001b[39mfor\u001b[39;00m ex, ey \u001b[39min\u001b[39;00m \u001b[39mzip\u001b[39m(\u001b[39mself\u001b[39m\u001b[39m.\u001b[39ml, other\u001b[39m.\u001b[39ml))\n",
      "\u001b[0;31mTypeError\u001b[0m: object of type 'type' has no len()"
     ]
    }
   ],
   "source": [
    "from functools import total_ordering\n",
    "\n",
    "@total_ordering\n",
    "class L:\n",
    "    def __init__(self, l):\n",
    "        self.l = L\n",
    "    def __eq__(self, other):\n",
    "        return self.l == other.l\n",
    "    def __len__(self):\n",
    "        return len(self.l)\n",
    "    def __lt__(self, other):\n",
    "        x, y = self.l, other.l\n",
    "        \n",
    "        tx, ty = type(x), type(y)\n",
    "        if (tx, ty) == (int, int):\n",
    "            return  x < y\n",
    "\n",
    "        if tx == int:\n",
    "            self.l = [x]\n",
    "        if ty == int:\n",
    "            other.l = [y]\n",
    "        print(x, y)\n",
    "        \n",
    "        return (len(x) <= len(y)) and all(ex < ey for ex, ey in zip(self.l, other.l))\n",
    "\n",
    "for x, y in [\n",
    "# ([1,1,3,1,1],\n",
    "# [1,1,5,1,1]),\n",
    "\n",
    "([[1],[2,3,4]],\n",
    "[[1],4]),\n",
    "\n",
    "# ([9],\n",
    "# [[8,7,6]]),\n",
    "\n",
    "([[4,4],4,4],\n",
    "[[4,4],4,4,4]),\n",
    "\n",
    "# ([7,7,7,7],\n",
    "# [7,7,7]),\n",
    "\n",
    "# ([],\n",
    "# [3]),\n",
    "\n",
    "# ([[[]]],\n",
    "# [[]]),\n",
    "\n",
    "# ([1,[2,[3,[4,[5,6,7]]]],8,9],\n",
    "# [1,[2,[3,[4,[5,6,0]]]],8,9]),\n",
    "]:\n",
    "    print(x, y, L(x) <= L(y))"
   ]
  },
  {
   "cell_type": "code",
   "execution_count": 15,
   "metadata": {},
   "outputs": [
    {
     "ename": "TypeError",
     "evalue": "'<=' not supported between instances of 'int' and 'list'",
     "output_type": "error",
     "traceback": [
      "\u001b[0;31m---------------------------------------------------------------------------\u001b[0m",
      "\u001b[0;31mTypeError\u001b[0m                                 Traceback (most recent call last)",
      "Cell \u001b[0;32mIn[15], line 1\u001b[0m\n\u001b[0;32m----> 1\u001b[0m \u001b[39m1\u001b[39;49m \u001b[39m<\u001b[39;49m\u001b[39m=\u001b[39;49m [\u001b[39m2\u001b[39;49m]\n",
      "\u001b[0;31mTypeError\u001b[0m: '<=' not supported between instances of 'int' and 'list'"
     ]
    }
   ],
   "source": [
    "1 <= [2]"
   ]
  },
  {
   "cell_type": "code",
   "execution_count": null,
   "metadata": {},
   "outputs": [],
   "source": []
  }
 ],
 "metadata": {
  "kernelspec": {
   "display_name": "Python 3.8.2 ('adventofcode')",
   "language": "python",
   "name": "python3"
  },
  "language_info": {
   "codemirror_mode": {
    "name": "ipython",
    "version": 3
   },
   "file_extension": ".py",
   "mimetype": "text/x-python",
   "name": "python",
   "nbconvert_exporter": "python",
   "pygments_lexer": "ipython3",
   "version": "3.11.0"
  },
  "orig_nbformat": 4,
  "vscode": {
   "interpreter": {
    "hash": "83f27e84803435a68d1d014c5250c87d7d069c8eee72bb56cfe52fbba0190855"
   }
  }
 },
 "nbformat": 4,
 "nbformat_minor": 2
}
