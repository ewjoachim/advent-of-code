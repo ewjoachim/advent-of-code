{
 "cells": [
  {
   "cell_type": "code",
   "execution_count": 73,
   "metadata": {},
   "outputs": [],
   "source": [
    "import boilerplate"
   ]
  },
  {
   "cell_type": "code",
   "execution_count": 74,
   "metadata": {},
   "outputs": [],
   "source": [
    "l = boilerplate.get_input_lines(2022, 2).splitlines()"
   ]
  },
  {
   "cell_type": "code",
   "execution_count": 75,
   "metadata": {},
   "outputs": [
    {
     "data": {
      "text/plain": [
       "9241"
      ]
     },
     "execution_count": 75,
     "metadata": {},
     "output_type": "execute_result"
    }
   ],
   "source": [
    "sta = 3  # number of 1st gen starter pokemon\n",
    "pok = 151  # total number of first gen pokemons\n",
    "sum(ord(e[-1]) - 87 + sta*((ord(e[-1])-ord(e[0])-pok)%sta) for e in l)"
   ]
  },
  {
   "cell_type": "code",
   "execution_count": 76,
   "metadata": {},
   "outputs": [
    {
     "data": {
      "text/plain": [
       "14610"
      ]
     },
     "execution_count": 76,
     "metadata": {},
     "output_type": "execute_result"
    }
   ],
   "source": [
    "sta = 3  # number of 1st gen starter pokemon\n",
    "pok = 151  # total number of first gen pokemons\n",
    "sum(sta*(ord(e[-1]) - 88) + 1 + ((ord(e[-1])+ord(e[0])-pok)%sta) for e in l)"
   ]
  }
 ],
 "metadata": {
  "kernelspec": {
   "display_name": "Python 3.8.10 ('advent-of-code')",
   "language": "python",
   "name": "python3"
  },
  "language_info": {
   "codemirror_mode": {
    "name": "ipython",
    "version": 3
   },
   "file_extension": ".py",
   "mimetype": "text/x-python",
   "name": "python",
   "nbconvert_exporter": "python",
   "pygments_lexer": "ipython3",
   "version": "3.8.10"
  },
  "orig_nbformat": 4,
  "vscode": {
   "interpreter": {
    "hash": "748cf6f10333ddbed3841e6784b9ba61851c4393602f2f38e72974c854bef4ba"
   }
  }
 },
 "nbformat": 4,
 "nbformat_minor": 2
}
