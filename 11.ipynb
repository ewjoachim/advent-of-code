{
 "cells": [
  {
   "cell_type": "code",
   "execution_count": 19,
   "metadata": {},
   "outputs": [],
   "source": [
    "import boilerplate\n",
    "l = boilerplate.get_input_lines(2022, 11).strip()"
   ]
  },
  {
   "cell_type": "code",
   "execution_count": 18,
   "metadata": {},
   "outputs": [],
   "source": [
    "l = \"\"\"Monkey 0:\n",
    "  Starting items: 79, 98\n",
    "  Operation: new = old * 19\n",
    "  Test: divisible by 23\n",
    "    If true: throw to monkey 2\n",
    "    If false: throw to monkey 3\n",
    "\n",
    "Monkey 1:\n",
    "  Starting items: 54, 65, 75, 74\n",
    "  Operation: new = old + 6\n",
    "  Test: divisible by 19\n",
    "    If true: throw to monkey 2\n",
    "    If false: throw to monkey 0\n",
    "\n",
    "Monkey 2:\n",
    "  Starting items: 79, 60, 97\n",
    "  Operation: new = old * old\n",
    "  Test: divisible by 13\n",
    "    If true: throw to monkey 1\n",
    "    If false: throw to monkey 3\n",
    "\n",
    "Monkey 3:\n",
    "  Starting items: 74\n",
    "  Operation: new = old + 3\n",
    "  Test: divisible by 17\n",
    "    If true: throw to monkey 0\n",
    "    If false: throw to monkey 1\"\"\""
   ]
  },
  {
   "cell_type": "code",
   "execution_count": 16,
   "metadata": {},
   "outputs": [
    {
     "name": "stdout",
     "output_type": "stream",
     "text": [
      "151312\n",
      "[43, 19, 376, 383, 386, 392, 320, 4]\n"
     ]
    }
   ],
   "source": [
    "import dataclasses, math\n",
    "mm = []\n",
    "@dataclasses.dataclass\n",
    "class M:\n",
    "    items: list\n",
    "    op: callable\n",
    "    te: callable\n",
    "    tr: int\n",
    "    fa: int\n",
    "    co: int = 0\n",
    "\n",
    "    def process(self):\n",
    "        while self.items:\n",
    "            i = self.items.pop(0)\n",
    "            new = self.op(i) // 3\n",
    "            mm[self.tr if not (new % self.te) else self.fa].items.append(new)\n",
    "            self.co += 1\n",
    "\n",
    "    @classmethod\n",
    "    def create(cls, s, op, te, u, f):\n",
    "        return cls(\n",
    "            items=[int(k) for k in s.split(\":\")[1].strip().split(\",\")],\n",
    "            op=lambda x: (eval(op, {\"old\": x})),\n",
    "            te=te,\n",
    "            tr=int(u.split()[-1]),\n",
    "            fa=int(f.split()[-1]),\n",
    "        )\n",
    "\n",
    "for e in l.split(\"\\n\\n\"):\n",
    "    _, s, o, t, u, f = e.strip().split(\"\\n\")\n",
    "    op = o.split(\"=\")[1].strip()\n",
    "    te = int(t.split()[-1])\n",
    "    mm.append(M.create(s, op, te, u, f))\n",
    "\n",
    "for i in range(20):\n",
    "    for m in mm:\n",
    "        m.process()\n",
    "\n",
    "a, b = sorted((m.co for m in mm), reverse=True)[:2]\n",
    "print(a*b)\n"
   ]
  },
  {
   "cell_type": "code",
   "execution_count": 20,
   "metadata": {},
   "outputs": [
    {
     "name": "stdout",
     "output_type": "stream",
     "text": [
      "51382025916\n"
     ]
    }
   ],
   "source": [
    "import dataclasses, math\n",
    "mm = []\n",
    "@dataclasses.dataclass\n",
    "class M:\n",
    "    items: list\n",
    "    op: callable\n",
    "    te: callable\n",
    "    tr: int\n",
    "    fa: int\n",
    "    co: int = 0\n",
    "    mod: int = 1\n",
    "\n",
    "    def process(self):\n",
    "        while self.items:\n",
    "            i = self.items.pop(0)\n",
    "            new = self.op(i) % self.mod\n",
    "            mm[self.tr if not (new % self.te) else self.fa].items.append(new)\n",
    "            self.co += 1\n",
    "\n",
    "    @classmethod\n",
    "    def create(cls, s, op, te, u, f):\n",
    "        return cls(\n",
    "            items=[int(k) for k in s.split(\":\")[1].strip().split(\",\")],\n",
    "            op=lambda x: (eval(op, {\"old\": x})),\n",
    "            te=te,\n",
    "            tr=int(u.split()[-1]),\n",
    "            fa=int(f.split()[-1]),\n",
    "        )\n",
    "\n",
    "for e in l.split(\"\\n\\n\"):\n",
    "    _, s, o, t, u, f = e.strip().split(\"\\n\")\n",
    "    op = o.split(\"=\")[1].strip()\n",
    "    te = int(t.split()[-1])\n",
    "    mm.append(M.create(s, op, te, u, f))\n",
    "\n",
    "mod = math.prod(m.te for m in mm)\n",
    "for m in mm:\n",
    "    m.mod = mod\n",
    "\n",
    "for i in range(10000):\n",
    "    for m in mm:\n",
    "        m.process()\n",
    "\n",
    "a, b = sorted((m.co for m in mm), reverse=True)[:2]\n",
    "print(a*b)\n"
   ]
  },
  {
   "cell_type": "code",
   "execution_count": null,
   "metadata": {},
   "outputs": [],
   "source": []
  }
 ],
 "metadata": {
  "kernelspec": {
   "display_name": "Python 3.8.2 ('adventofcode')",
   "language": "python",
   "name": "python3"
  },
  "language_info": {
   "codemirror_mode": {
    "name": "ipython",
    "version": 3
   },
   "file_extension": ".py",
   "mimetype": "text/x-python",
   "name": "python",
   "nbconvert_exporter": "python",
   "pygments_lexer": "ipython3",
   "version": "3.11.0"
  },
  "orig_nbformat": 4,
  "vscode": {
   "interpreter": {
    "hash": "83f27e84803435a68d1d014c5250c87d7d069c8eee72bb56cfe52fbba0190855"
   }
  }
 },
 "nbformat": 4,
 "nbformat_minor": 2
}
