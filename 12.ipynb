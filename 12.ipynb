{
 "cells": [
  {
   "cell_type": "code",
   "execution_count": 53,
   "metadata": {},
   "outputs": [],
   "source": [
    "import boilerplate, itertools, math\n",
    "inp = tuple(boilerplate.get_input_lines(12).splitlines())\n",
    "\n",
    "inp2 = \"\"\"F10\n",
    "N3\n",
    "F7\n",
    "R90\n",
    "F11\"\"\".splitlines()\n",
    "\n",
    "inp = [(e, int(\"\".join(r))) for e, *r in inp]"
   ]
  },
  {
   "cell_type": "code",
   "execution_count": 35,
   "metadata": {},
   "outputs": [],
   "source": [
    "def cos(a):\n",
    "    return {0: 1, 90: 0, 180: -1, 270: 0}[a % 360]\n",
    "\n",
    "def sin(a):\n",
    "    return cos(a - 90)\n",
    "\n",
    "def main(inp):\n",
    "    x, y, a = 0, 0, 0\n",
    "    for i, v in inp:\n",
    "        if i == \"F\":\n",
    "            x += v * cos(a)\n",
    "            y += v * sin(a)\n",
    "        elif i in \"LR\":\n",
    "            a += v * (1 if i == \"L\" else -1)\n",
    "        else:\n",
    "            vec = {\"N\": (0, 1), \"S\": (0, -1), \"W\": (-1, 0), \"E\": (1, 0)}[i]\n",
    "            x += v * vec[0]\n",
    "            y += v * vec[1]\n",
    "    return abs(x) + abs(y)"
   ]
  },
  {
   "cell_type": "code",
   "execution_count": 36,
   "metadata": {},
   "outputs": [
    {
     "data": {
      "text/plain": [
       "1457"
      ]
     },
     "execution_count": 36,
     "metadata": {},
     "output_type": "execute_result"
    }
   ],
   "source": [
    "main(inp)"
   ]
  },
  {
   "cell_type": "code",
   "execution_count": 54,
   "metadata": {},
   "outputs": [],
   "source": [
    "def rotate(x, y, a):\n",
    "    a = a % 360\n",
    "    if a == 90:\n",
    "        return -y, x\n",
    "    elif a == 180:\n",
    "        return -x, -y\n",
    "    elif a == 270:\n",
    "        return y, -x\n",
    "    \n",
    "def main2(inp):\n",
    "    x, y, wx, wy = 0, 0, 10, 1\n",
    "    for i, v in inp:\n",
    "        if i == \"F\":\n",
    "            x += v * wx\n",
    "            y += v * wy\n",
    "        elif i in \"LR\":\n",
    "            wx, wy = rotate(wx, wy, v * (1 if i == \"L\" else -1))\n",
    "        else:\n",
    "            vec = {\"N\": (0, 1), \"S\": (0, -1), \"W\": (-1, 0), \"E\": (1, 0)}[i]\n",
    "            wx += v * vec[0]\n",
    "            wy += v * vec[1]\n",
    "    return abs(x) + abs(y)"
   ]
  },
  {
   "cell_type": "code",
   "execution_count": 55,
   "metadata": {},
   "outputs": [
    {
     "data": {
      "text/plain": [
       "106860"
      ]
     },
     "execution_count": 55,
     "metadata": {},
     "output_type": "execute_result"
    }
   ],
   "source": [
    "main2(inp)"
   ]
  },
  {
   "cell_type": "code",
   "execution_count": null,
   "metadata": {},
   "outputs": [],
   "source": []
  }
 ],
 "metadata": {
  "kernelspec": {
   "display_name": "Python 3",
   "language": "python",
   "name": "python3"
  },
  "language_info": {
   "codemirror_mode": {
    "name": "ipython",
    "version": 3
   },
   "file_extension": ".py",
   "mimetype": "text/x-python",
   "name": "python",
   "nbconvert_exporter": "python",
   "pygments_lexer": "ipython3",
   "version": "3.8.2"
  }
 },
 "nbformat": 4,
 "nbformat_minor": 4
}
