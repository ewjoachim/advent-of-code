{
 "cells": [
  {
   "cell_type": "code",
   "execution_count": 8,
   "metadata": {},
   "outputs": [],
   "source": [
    "\n",
    "import boilerplate\n",
    "f = boilerplate.get_input_lines(2023, 1).splitlines()\n"
   ]
  },
  {
   "cell_type": "code",
   "execution_count": 10,
   "metadata": {},
   "outputs": [
    {
     "name": "stdout",
     "output_type": "stream",
     "text": [
      "1.03 ms ± 11.1 µs per loop (mean ± std. dev. of 7 runs, 1,000 loops each)\n"
     ]
    }
   ],
   "source": [
    "%%timeit\n",
    "sum(int(next(iter(d for d in l if d in \"0123456789\"))\n",
    " + next(reversed([d for d in l if d in \"0123456789\"])))\n",
    " for l in f)\n"
   ]
  },
  {
   "cell_type": "code",
   "execution_count": 11,
   "metadata": {},
   "outputs": [
    {
     "ename": "TypeError",
     "evalue": "unsupported operand type(s) for |: 'dict' and 'dict'",
     "output_type": "error",
     "traceback": [
      "\u001b[0;31m---------------------------------------------------------------------------\u001b[0m",
      "\u001b[0;31mTypeError\u001b[0m                                 Traceback (most recent call last)",
      "\u001b[1;32m/home/joachim/other-src/advent-of-code/1.ipynb Cell 3\u001b[0m line \u001b[0;36m1\n\u001b[0;32m----> <a href='vscode-notebook-cell:/home/joachim/other-src/advent-of-code/1.ipynb#W2sZmlsZQ%3D%3D?line=0'>1</a>\u001b[0m digits \u001b[39m=\u001b[39m {v: k \u001b[39mfor\u001b[39;49;00m k, v \u001b[39min\u001b[39;49;00m \u001b[39menumerate\u001b[39;49m(\u001b[39m\"\u001b[39;49m\u001b[39mzero one two three four five six seven eight nine\u001b[39;49m\u001b[39m\"\u001b[39;49m\u001b[39m.\u001b[39;49msplit())} \u001b[39m|\u001b[39;49m {v:v \u001b[39mfor\u001b[39;49;00m v \u001b[39min\u001b[39;49;00m \u001b[39m\"\u001b[39;49m\u001b[39m0123456789\u001b[39;49m\u001b[39m\"\u001b[39;49m}\n\u001b[1;32m      <a href='vscode-notebook-cell:/home/joachim/other-src/advent-of-code/1.ipynb#W2sZmlsZQ%3D%3D?line=1'>2</a>\u001b[0m s\u001b[39m=\u001b[39m\u001b[39m0\u001b[39m\n\u001b[1;32m      <a href='vscode-notebook-cell:/home/joachim/other-src/advent-of-code/1.ipynb#W2sZmlsZQ%3D%3D?line=2'>3</a>\u001b[0m \u001b[39mfor\u001b[39;00m l \u001b[39min\u001b[39;00m f:\n",
      "\u001b[0;31mTypeError\u001b[0m: unsupported operand type(s) for |: 'dict' and 'dict'"
     ]
    }
   ],
   "source": [
    "digits = {v: k for k, v in enumerate(\"zero one two three four five six seven eight nine\".split())} | {v:v for v in \"0123456789\"}\n",
    "s=0\n",
    "for l in f:\n",
    "    v = next(iter(v for d in range(len(l)) for k, v in digits.items() if l[d:].startswith(k)))\n",
    "    v += next(iter(v for d in reversed(range(len(l))) for k, v in digits.items() if l[d:].startswith(k)))\n",
    "sum(int(\"\".join(str(digits.index(d)) for d in l if d in digits))\n",
    " + int(\"\".join(str(digits.index(d)) for d in reversed(l) if d in digits))\n",
    " for l in boilerplate.get_input_lines(2023, 1).splitlines())\n"
   ]
  },
  {
   "cell_type": "code",
   "execution_count": null,
   "metadata": {},
   "outputs": [],
   "source": []
  }
 ],
 "metadata": {
  "kernelspec": {
   "display_name": "advent-of-code",
   "language": "python",
   "name": "python3"
  },
  "language_info": {
   "codemirror_mode": {
    "name": "ipython",
    "version": 3
   },
   "file_extension": ".py",
   "mimetype": "text/x-python",
   "name": "python",
   "nbconvert_exporter": "python",
   "pygments_lexer": "ipython3",
   "version": "3.8.18"
  }
 },
 "nbformat": 4,
 "nbformat_minor": 2
}
