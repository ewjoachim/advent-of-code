{
 "cells": [
  {
   "cell_type": "code",
   "execution_count": 114,
   "metadata": {},
   "outputs": [],
   "source": [
    "import boilerplate\n",
    "l = boilerplate.get_input_lines(2022, 8).splitlines()"
   ]
  },
  {
   "cell_type": "code",
   "execution_count": 115,
   "metadata": {},
   "outputs": [],
   "source": [
    "import numpy as np\n",
    "a = np.array([[int(i) for i in j] for j in l])\n",
    "m = np.zeros((4, *a.shape), dtype=int)"
   ]
  },
  {
   "cell_type": "code",
   "execution_count": 118,
   "metadata": {},
   "outputs": [
    {
     "name": "stdout",
     "output_type": "stream",
     "text": [
      "213 µs ± 4.71 µs per loop (mean ± std. dev. of 7 runs, 1,000 loops each)\n"
     ]
    }
   ],
   "source": [
    "m[0] = np.maximum.accumulate(a, axis=0)\n",
    "m[1] = np.maximum.accumulate(a[::-1], axis=0)[::-1]\n",
    "m[2] = np.maximum.accumulate(a, axis=1)\n",
    "m[3] = np.maximum.accumulate(a[:,::-1], axis=1)[:,::-1]\n",
    "\n",
    "np.logical_or.reduce(np.array([\n",
    "    m[0] > np.pad(m[0,:-1,:], [(1, 0), (0, 0)], constant_values=-1),\n",
    "    m[1] > np.pad(m[1, 1:,:], [(0, 1), (0, 0)], constant_values=-1),\n",
    "    m[2] > np.pad(m[2,:,:-1], [(0, 0), (1, 0)], constant_values=-1),\n",
    "    m[3] > np.pad(m[3,:, 1:], [(0, 0), (0, 1)], constant_values=-1),\n",
    "])).sum()"
   ]
  },
  {
   "cell_type": "code",
   "execution_count": 119,
   "metadata": {},
   "outputs": [
    {
     "name": "stdout",
     "output_type": "stream",
     "text": [
      "123 ms ± 1.68 ms per loop (mean ± std. dev. of 7 runs, 10 loops each)\n"
     ]
    }
   ],
   "source": [
    "def f(v):\n",
    "    h, x, y = v\n",
    "    return (\n",
    "        (np.nonzero(np.concatenate([a[x,y+1:-1], [10]]) >= h)[0][0] + 1)\n",
    "        * (np.nonzero(np.concatenate([a[x,y-1:0:-1], [10]]) >= h)[0][0] + 1)\n",
    "        * (np.nonzero(np.concatenate([a[x+1:-1,y], [10]]) >= h)[0][0] + 1)\n",
    "        * (np.nonzero(np.concatenate([a[x-1:0:-1,y], [10]]) >= h)[0][0] + 1)\n",
    "    )\n",
    "    \n",
    "a_with_coord = np.concatenate((a[np.newaxis,...], np.indices(a.shape)))\n",
    "np.max(np.apply_along_axis(f, 0, a_with_coord[:,1:-1,1:-1]))"
   ]
  },
  {
   "cell_type": "code",
   "execution_count": null,
   "metadata": {},
   "outputs": [],
   "source": []
  }
 ],
 "metadata": {
  "kernelspec": {
   "display_name": "Python 3.8.10 ('advent-of-code')",
   "language": "python",
   "name": "python3"
  },
  "language_info": {
   "codemirror_mode": {
    "name": "ipython",
    "version": 3
   },
   "file_extension": ".py",
   "mimetype": "text/x-python",
   "name": "python",
   "nbconvert_exporter": "python",
   "pygments_lexer": "ipython3",
   "version": "3.8.10 (default, Jun 22 2022, 20:18:18) \n[GCC 9.4.0]"
  },
  "orig_nbformat": 4,
  "vscode": {
   "interpreter": {
    "hash": "748cf6f10333ddbed3841e6784b9ba61851c4393602f2f38e72974c854bef4ba"
   }
  }
 },
 "nbformat": 4,
 "nbformat_minor": 2
}
