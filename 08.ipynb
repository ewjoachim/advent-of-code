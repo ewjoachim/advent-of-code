{
 "cells": [
  {
   "cell_type": "code",
   "execution_count": 69,
   "metadata": {},
   "outputs": [],
   "source": [
    "import boilerplate\n",
    "inp = boilerplate.get_input_lines(8).splitlines()"
   ]
  },
  {
   "cell_type": "code",
   "execution_count": 70,
   "metadata": {},
   "outputs": [],
   "source": [
    "class VM:\n",
    "    def __init__(self, swap=-1):\n",
    "        self.val = 0\n",
    "        self.nex = 0\n",
    "        self.seen = set()\n",
    "        self.swap = swap\n",
    "    \n",
    "    def nop(self, arg):\n",
    "        self.nex += 1\n",
    "        \n",
    "    def acc(self, arg):\n",
    "        self.val += arg\n",
    "        self.nex += 1\n",
    "        \n",
    "    def jmp(self, arg):\n",
    "        self.nex += arg\n",
    "        \n",
    "    def tick(self):\n",
    "        self.seen.add(self.nex)\n",
    "        inst, arg = inp[self.nex].split()\n",
    "        inst = inst if self.nex != self.swap else {\"nop\": \"jmp\", \"jmp\": \"nop\"}.get(inst, inst)\n",
    "        arg = int(arg)\n",
    "        getattr(self, inst)(arg)\n",
    "        \n",
    "    def finish_success(self):\n",
    "        if self.nex in self.seen:\n",
    "            return False\n",
    "        if self.nex == len(inp):\n",
    "            return True\n",
    "        return None\n",
    "    \n",
    "    def run(self):\n",
    "        while True:\n",
    "            self.tick()\n",
    "            fs = self.finish_success()\n",
    "            if fs is None:\n",
    "                continue\n",
    "\n",
    "            elif fs is False:\n",
    "                return None\n",
    "            \n",
    "            elif fs is True:\n",
    "                return self.val"
   ]
  },
  {
   "cell_type": "code",
   "execution_count": 71,
   "metadata": {},
   "outputs": [
    {
     "data": {
      "text/plain": [
       "1087"
      ]
     },
     "execution_count": 71,
     "metadata": {},
     "output_type": "execute_result"
    }
   ],
   "source": [
    "vm = VM()\n",
    "vm.run()\n",
    "vm.val"
   ]
  },
  {
   "cell_type": "code",
   "execution_count": 72,
   "metadata": {},
   "outputs": [
    {
     "data": {
      "text/plain": [
       "780"
      ]
     },
     "execution_count": 72,
     "metadata": {},
     "output_type": "execute_result"
    }
   ],
   "source": [
    "next(filter(None, (VM(i).run() for i in range(len(inp)))))"
   ]
  },
  {
   "cell_type": "code",
   "execution_count": null,
   "metadata": {},
   "outputs": [],
   "source": []
  }
 ],
 "metadata": {
  "kernelspec": {
   "display_name": "Python 3",
   "language": "python",
   "name": "python3"
  },
  "language_info": {
   "codemirror_mode": {
    "name": "ipython",
    "version": 3
   },
   "file_extension": ".py",
   "mimetype": "text/x-python",
   "name": "python",
   "nbconvert_exporter": "python",
   "pygments_lexer": "ipython3",
   "version": "3.8.5"
  }
 },
 "nbformat": 4,
 "nbformat_minor": 4
}
