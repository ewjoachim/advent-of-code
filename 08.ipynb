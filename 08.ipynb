{
 "cells": [
  {
   "cell_type": "code",
   "execution_count": 104,
   "metadata": {},
   "outputs": [],
   "source": [
    "import boilerplate\n",
    "l = boilerplate.get_input_lines(2022, 8).splitlines()"
   ]
  },
  {
   "cell_type": "code",
   "execution_count": 93,
   "metadata": {},
   "outputs": [],
   "source": [
    "l = \"\"\"30373\n",
    "25512\n",
    "65332\n",
    "33549\n",
    "35390\"\"\".splitlines()"
   ]
  },
  {
   "cell_type": "code",
   "execution_count": 106,
   "metadata": {},
   "outputs": [],
   "source": [
    "import numpy as np\n",
    "a = np.array([[int(i) for i in j] for j in l])"
   ]
  },
  {
   "cell_type": "code",
   "execution_count": 94,
   "metadata": {},
   "outputs": [
    {
     "data": {
      "text/plain": [
       "21"
      ]
     },
     "execution_count": 94,
     "metadata": {},
     "output_type": "execute_result"
    }
   ],
   "source": [
    "\n",
    "m = np.maximum.accumulate(np.array([a, a[:,::-1], a.T, a.T[:,::-1]]), axis=2)\n",
    "\n",
    "diff = (m[...,1:] - m[...,:-1])[:,1:-1,:-1]\n",
    "\n",
    "np.logical_or(\n",
    "    np.logical_or(diff[0], diff[1][:,::-1]),\n",
    "    np.logical_or(diff[2], diff[3][:,::-1]).T\n",
    ").sum() + 2 * a.shape[0] + 2 * a.shape[1] - 4"
   ]
  },
  {
   "cell_type": "code",
   "execution_count": 107,
   "metadata": {},
   "outputs": [
    {
     "data": {
      "text/plain": [
       "252000"
      ]
     },
     "execution_count": 107,
     "metadata": {},
     "output_type": "execute_result"
    }
   ],
   "source": [
    "def f(v):\n",
    "    h, x, y = v\n",
    "    return (\n",
    "        (np.nonzero(np.concatenate([a[x,y+1:-1], [10]]) >= h)[0][0] + 1)\n",
    "        * (np.nonzero(np.concatenate([a[x,y-1:0:-1], [10]]) >= h)[0][0] + 1)\n",
    "        * (np.nonzero(np.concatenate([a[x+1:-1,y], [10]]) >= h)[0][0] + 1)\n",
    "        * (np.nonzero(np.concatenate([a[x-1:0:-1,y], [10]]) >= h)[0][0] + 1)\n",
    "    )\n",
    "    \n",
    "a_with_coord = np.concatenate((a[np.newaxis,...], np.indices(a.shape)))\n",
    "np.max(np.apply_along_axis(f, 0, a_with_coord[:,1:-1,1:-1]))"
   ]
  },
  {
   "cell_type": "code",
   "execution_count": 96,
   "metadata": {},
   "outputs": [
    {
     "data": {
      "text/plain": [
       "21"
      ]
     },
     "execution_count": 96,
     "metadata": {},
     "output_type": "execute_result"
    }
   ],
   "source": [
    "\n",
    "\n",
    "np.logical_or.reduce(np.array([\n",
    "    m[0] > np.pad(m[0,:-1,:], [(1, 0), (0, 0)], constant_values=-1),\n",
    "    m[1] > np.pad(m[1, 1:,:], [(0, 1), (0, 0)], constant_values=-1),\n",
    "    m[2] > np.pad(m[2,:,:-1], [(0, 0), (1, 0)], constant_values=-1),\n",
    "    m[3] > np.pad(m[3,:, 1:], [(0, 0), (0, 1)], constant_values=-1),\n",
    "])).sum()"
   ]
  },
  {
   "cell_type": "code",
   "execution_count": 101,
   "metadata": {},
   "outputs": [
    {
     "data": {
      "text/plain": [
       "array([[3, 0, 3, 7, 3],\n",
       "       [2, 5, 5, 1, 2],\n",
       "       [6, 5, 3, 3, 2],\n",
       "       [3, 3, 5, 4, 9],\n",
       "       [3, 5, 3, 9, 0]])"
      ]
     },
     "execution_count": 101,
     "metadata": {},
     "output_type": "execute_result"
    }
   ],
   "source": [
    "a"
   ]
  },
  {
   "cell_type": "code",
   "execution_count": 102,
   "metadata": {},
   "outputs": [
    {
     "data": {
      "text/plain": [
       "array([[False, False, False,  True, False],\n",
       "       [False,  True,  True, False, False],\n",
       "       [ True,  True, False, False, False],\n",
       "       [False, False,  True, False,  True],\n",
       "       [False,  True, False,  True, False]])"
      ]
     },
     "execution_count": 102,
     "metadata": {},
     "output_type": "execute_result"
    }
   ],
   "source": [
    "i = 3\n",
    "j = 2\n",
    "a - a[i, j] >= 0"
   ]
  },
  {
   "cell_type": "code",
   "execution_count": null,
   "metadata": {},
   "outputs": [],
   "source": []
  }
 ],
 "metadata": {
  "kernelspec": {
   "display_name": "Python 3 (ipykernel)",
   "language": "python",
   "name": "python3"
  },
  "language_info": {
   "codemirror_mode": {
    "name": "ipython",
    "version": 3
   },
   "file_extension": ".py",
   "mimetype": "text/x-python",
   "name": "python",
   "nbconvert_exporter": "python",
   "pygments_lexer": "ipython3",
   "version": "3.11.0"
  },
  "vscode": {
   "interpreter": {
    "hash": "83f27e84803435a68d1d014c5250c87d7d069c8eee72bb56cfe52fbba0190855"
   }
  }
 },
 "nbformat": 4,
 "nbformat_minor": 2
}
