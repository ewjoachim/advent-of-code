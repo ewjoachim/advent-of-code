{
 "cells": [
  {
   "cell_type": "code",
   "execution_count": 85,
   "metadata": {},
   "outputs": [],
   "source": [
    "import boilerplate, itertools\n",
    "inp = list(map(int, boilerplate.get_input_lines(10).splitlines()))\n",
    "# inp = \"\"\"28 33 18 42 31 14 46 20 48 47 24 23 49 45 19 38 39 11 1 32 25 35 8 17 7 9 4 2 34 10 3\"\"\"\n",
    "#inp = \"\"\"16 10 15 5 1 11 7 19 6 12 4\"\"\"\n",
    "#inp = list(map(int, inp.split()))"
   ]
  },
  {
   "cell_type": "code",
   "execution_count": 86,
   "metadata": {},
   "outputs": [],
   "source": [
    "sinp = [0, *sorted(inp), max(inp) + 3]\n",
    "diff = [d-c for c, d in zip(sinp, sinp[1:])]"
   ]
  },
  {
   "cell_type": "code",
   "execution_count": 10,
   "metadata": {},
   "outputs": [],
   "source": [
    "import collections\n",
    "e = collections.Counter(diff)"
   ]
  },
  {
   "cell_type": "code",
   "execution_count": 11,
   "metadata": {},
   "outputs": [
    {
     "data": {
      "text/plain": [
       "1690"
      ]
     },
     "execution_count": 11,
     "metadata": {},
     "output_type": "execute_result"
    }
   ],
   "source": [
    "e[1] * e[3]"
   ]
  },
  {
   "cell_type": "code",
   "execution_count": 7,
   "metadata": {},
   "outputs": [
    {
     "data": {
      "text/plain": [
       "Counter({1: 65, 3: 26})"
      ]
     },
     "execution_count": 7,
     "metadata": {},
     "output_type": "execute_result"
    }
   ],
   "source": [
    "e"
   ]
  },
  {
   "cell_type": "markdown",
   "metadata": {},
   "source": [
    "### First approach\n",
    "\n",
    "Probably working, if I have 2 trillions years of CPU to spare."
   ]
  },
  {
   "cell_type": "code",
   "execution_count": 64,
   "metadata": {},
   "outputs": [],
   "source": [
    "def is_valid(l):\n",
    "    return set(b - a for a, b in zip(l, l[1:])) <= {1, 2, 3}\n",
    "    \n",
    "\n",
    "def count_valid(l, n=0):\n",
    "    return 1 + sum(count_valid(sl, k) for k, sl in enumerate(sublists(l, n), n) if is_valid(sl))\n",
    "    \n",
    "def sublists(l, n):\n",
    "    for i in range(n+1, len(l)-1):\n",
    "        yield l[:i] + l[i+1:]\n",
    "        \n",
    "count_valid(sinp)"
   ]
  },
  {
   "cell_type": "markdown",
   "metadata": {},
   "source": [
    "### Second approach"
   ]
  },
  {
   "cell_type": "code",
   "execution_count": 79,
   "metadata": {},
   "outputs": [],
   "source": [
    "import functools"
   ]
  },
  {
   "cell_type": "code",
   "execution_count": 112,
   "metadata": {},
   "outputs": [],
   "source": [
    "@functools.lru_cache\n",
    "def count_valid(*l):\n",
    "    if len(l) <= 1:\n",
    "        return 1\n",
    "    total = 0\n",
    "    f, *m = l\n",
    "    for i in range(3):\n",
    "        if len(m) > i and m[i] - f <= 3:\n",
    "            total += count_valid(*m[i:])\n",
    "    return total"
   ]
  },
  {
   "cell_type": "code",
   "execution_count": 113,
   "metadata": {},
   "outputs": [
    {
     "data": {
      "text/plain": [
       "5289227976704"
      ]
     },
     "execution_count": 113,
     "metadata": {},
     "output_type": "execute_result"
    }
   ],
   "source": [
    "count_valid(*sinp)"
   ]
  },
  {
   "cell_type": "markdown",
   "metadata": {},
   "source": [
    "### Mad scientists edition"
   ]
  },
  {
   "cell_type": "code",
   "execution_count": 121,
   "metadata": {},
   "outputs": [
    {
     "data": {
      "text/plain": [
       "5289227976704"
      ]
     },
     "execution_count": 121,
     "metadata": {},
     "output_type": "execute_result"
    }
   ],
   "source": [
    "@functools.lru_cache\n",
    "def count_valid(*l):\n",
    "    f, *m = l  # FML...\n",
    "    return 1 if len(l) <= 1 else sum(count_valid(*m[i:]) for i in range(3) if len(m) > i and m[i] - f <= 3)\n",
    "\n",
    "count_valid(0, *sorted(inp), max(inp) + 3)"
   ]
  },
  {
   "cell_type": "code",
   "execution_count": null,
   "metadata": {},
   "outputs": [],
   "source": []
  }
 ],
 "metadata": {
  "kernelspec": {
   "display_name": "Python 3",
   "language": "python",
   "name": "python3"
  },
  "language_info": {
   "codemirror_mode": {
    "name": "ipython",
    "version": 3
   },
   "file_extension": ".py",
   "mimetype": "text/x-python",
   "name": "python",
   "nbconvert_exporter": "python",
   "pygments_lexer": "ipython3",
   "version": "3.8.2"
  }
 },
 "nbformat": 4,
 "nbformat_minor": 4
}
