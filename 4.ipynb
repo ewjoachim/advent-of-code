{
 "cells": [
  {
   "cell_type": "code",
   "execution_count": 1,
   "metadata": {},
   "outputs": [],
   "source": [
    "import requests, browsercookie\n",
    "\n",
    "def get_input_lines(day):\n",
    "    return requests.get(f\"https://adventofcode.com/2020/day/{day}/input\", cookies=browsercookie.firefox()).text"
   ]
  },
  {
   "cell_type": "code",
   "execution_count": 2,
   "metadata": {},
   "outputs": [],
   "source": [
    "inp = get_input_lines(4)"
   ]
  },
  {
   "cell_type": "code",
   "execution_count": 3,
   "metadata": {},
   "outputs": [
    {
     "data": {
      "text/plain": [
       "190"
      ]
     },
     "execution_count": 3,
     "metadata": {},
     "output_type": "execute_result"
    }
   ],
   "source": [
    "sum(\n",
    "    set(\n",
    "        dict(\n",
    "            kv.split(\":\", 1)\n",
    "            for kv in e.split()\n",
    "        )\n",
    "    ) >= set(\"byr iyr eyr hgt hcl ecl pid\".split())\n",
    "    for e in inp.split(\"\\n\\n\")\n",
    ")"
   ]
  },
  {
   "cell_type": "code",
   "execution_count": 23,
   "metadata": {},
   "outputs": [
    {
     "name": "stdout",
     "output_type": "stream",
     "text": [
      "byr <function <lambda> at 0x10a0a7430> {'iyr': '1928', 'cid': '150', 'pid': '476113241', 'eyr': '2039', 'hcl': 'a5ac0f', 'ecl': '#25f8d2', 'byr': '2027', 'hgt': '190'} <class 'AssertionError'> \n",
      "iyr <function <lambda> at 0x10a0a7f70> {'hcl': '#007d7c', 'pid': '195125455', 'cid': '213', 'hgt': '154cm', 'eyr': '2021', 'ecl': 'grn', 'byr': '1981'} <class 'KeyError'> 'iyr'\n",
      "byr <function <lambda> at 0x10a0a7430> {'ecl': 'oth', 'hgt': '185cm', 'pid': '958027833', 'hcl': '#b6652a', 'iyr': '2028', 'cid': '171', 'eyr': '1994'} <class 'KeyError'> 'byr'\n",
      "eyr <function <lambda> at 0x10a0a7af0> {'hgt': '169cm', 'eyr': '2035', 'pid': '023983645', 'iyr': '2014', 'ecl': 'amb', 'hcl': '#c0946f', 'byr': '1975', 'cid': '258'} <class 'AssertionError'> \n",
      "hgt <function <lambda> at 0x10a0a7940> {'hgt': '156', 'ecl': 'oth', 'cid': '235', 'pid': '609823906', 'iyr': '2016', 'eyr': '2021', 'hcl': '#6b5442', 'byr': '1932'} <class 'AssertionError'> \n",
      "byr <function <lambda> at 0x10a0a7430> {'iyr': '2006', 'hgt': '103', 'ecl': '#2d77e5', 'cid': '214', 'byr': '2018', 'hcl': '6c53a4', 'pid': '190cm', 'eyr': '1940'} <class 'AssertionError'> \n",
      "byr <function <lambda> at 0x10a0a7430> {'ecl': 'gmt', 'hgt': '75cm', 'byr': '2007', 'eyr': '2037', 'iyr': '2028', 'hcl': '4591f6', 'cid': '118'} <class 'AssertionError'> \n",
      "hgt <function <lambda> at 0x10a0a7940> {'ecl': 'hzl', 'eyr': '2027', 'iyr': '2019', 'pid': '125201586', 'byr': '1947', 'cid': '74', 'hcl': '#341e13'} <class 'KeyError'> 'hgt'\n",
      "iyr <function <lambda> at 0x10a0a7f70> {'hgt': '159cm', 'byr': '1945', 'hcl': '#6b5442', 'iyr': '2027', 'eyr': '2024', 'cid': '94', 'ecl': 'brn', 'pid': '476551927'} <class 'AssertionError'> \n",
      "ecl <function <lambda> at 0x10a0a7550> {'iyr': '2010', 'hgt': '192cm', 'pid': '247508683', 'ecl': '#57a15d', 'byr': '1972', 'hcl': '#602927', 'eyr': '2024'} <class 'AssertionError'> \n",
      "byr <function <lambda> at 0x10a0a7430> {'pid': '302395756', 'ecl': 'grn', 'hcl': 'z', 'byr': '2005', 'hgt': '111', 'eyr': '2031', 'cid': '147'} <class 'AssertionError'> \n",
      "hcl <function <lambda> at 0x10a0a7d30> {'hgt': '172cm', 'byr': '1923', 'pid': '741415636', 'ecl': 'grn', 'eyr': '2022', 'iyr': '2013'} <class 'KeyError'> 'hcl'\n",
      "ecl <function <lambda> at 0x10a0a7550> {'pid': '457776708', 'byr': '1992', 'hcl': '#b6652a', 'hgt': '157cm', 'eyr': '2024', 'iyr': '2011'} <class 'KeyError'> 'ecl'\n",
      "byr <function <lambda> at 0x10a0a7430> {'byr': '2004', 'iyr': '2021', 'pid': '165cm', 'ecl': '#7e7d04', 'hcl': '#18171d', 'eyr': '2035', 'hgt': '61'} <class 'AssertionError'> \n",
      "byr <function <lambda> at 0x10a0a7430> {'ecl': '#492a33', 'hgt': '168cm', 'iyr': '2018', 'byr': '2017', 'cid': '293', 'pid': '1764204298', 'hcl': '#cfa07d', 'eyr': '2022'} <class 'AssertionError'> \n",
      "byr <function <lambda> at 0x10a0a7430> {'eyr': '2022', 'iyr': '2018', 'hcl': '#efcc98', 'cid': '181', 'byr': '2029', 'ecl': 'utc', 'hgt': '188cm', 'pid': '332630362'} <class 'AssertionError'> \n",
      "byr <function <lambda> at 0x10a0a7430> {'hcl': '#ceb3a1', 'iyr': '2013', 'pid': '592603167', 'cid': '95', 'ecl': 'blu', 'eyr': '2022'} <class 'KeyError'> 'byr'\n",
      "hcl <function <lambda> at 0x10a0a7d30> {'hgt': '150cm', 'ecl': 'grn', 'hcl': '8f3824', 'pid': '735766540', 'eyr': '2029', 'byr': '2000', 'iyr': '2015'} <class 'AssertionError'> \n",
      "byr <function <lambda> at 0x10a0a7430> {'hcl': 'z', 'ecl': 'hzl', 'byr': '2003', 'hgt': '118', 'eyr': '2008', 'iyr': '2022', 'pid': '157cm'} <class 'AssertionError'> \n",
      "byr <function <lambda> at 0x10a0a7430> {'iyr': '1969', 'cid': '324', 'eyr': '1927', 'ecl': 'lzr', 'hcl': 'z', 'byr': '2030', 'hgt': '172cm', 'pid': '#997235'} <class 'AssertionError'> \n",
      "byr <function <lambda> at 0x10a0a7430> {'iyr': '2015', 'hcl': '#ceb3a1', 'ecl': 'lzr', 'eyr': '2022', 'hgt': '173cm', 'pid': '1799325911', 'cid': '210', 'byr': '2018'} <class 'AssertionError'> \n",
      "hgt <function <lambda> at 0x10a0a7940> {'iyr': '2015', 'hcl': '#733820', 'pid': '245692263', 'ecl': 'oth', 'byr': '1960', 'eyr': '2022'} <class 'KeyError'> 'hgt'\n",
      "byr <function <lambda> at 0x10a0a7430> {'hcl': 'b9c0fd', 'iyr': '1996', 'hgt': '83', 'byr': '2029', 'pid': '#449a30', 'ecl': 'grt', 'eyr': '1925'} <class 'AssertionError'> \n",
      "byr <function <lambda> at 0x10a0a7430> {'hgt': '68cm', 'eyr': '2039', 'hcl': '#cfa07d', 'pid': '193cm', 'iyr': '1984', 'ecl': '#b9ec76'} <class 'KeyError'> 'byr'\n",
      "hcl <function <lambda> at 0x10a0a7d30> {'eyr': '2026', 'byr': '1921', 'pid': '297672804', 'hgt': '172cm', 'iyr': '2011', 'ecl': 'brn'} <class 'KeyError'> 'hcl'\n",
      "iyr <function <lambda> at 0x10a0a7f70> {'eyr': '2026', 'cid': '241', 'hcl': '#341e13', 'pid': '316611397', 'hgt': '193cm', 'byr': '1977'} <class 'KeyError'> 'iyr'\n",
      "iyr <function <lambda> at 0x10a0a7f70> {'pid': '509492550', 'hgt': '64cm', 'eyr': '2030', 'hcl': '#b6652a', 'byr': '1986', 'iyr': '1922', 'ecl': 'gry'} <class 'AssertionError'> \n",
      "eyr <function <lambda> at 0x10a0a7af0> {'byr': '2001', 'pid': '332016728', 'iyr': '2018', 'cid': '89', 'eyr': '2031', 'hgt': '155cm', 'ecl': 'zzz', 'hcl': '#866857'} <class 'AssertionError'> \n",
      "byr <function <lambda> at 0x10a0a7430> {'byr': '2023', 'hcl': 'z', 'pid': '3586415546', 'iyr': '2022', 'cid': '209', 'hgt': '188in', 'ecl': 'brn'} <class 'AssertionError'> \n",
      "iyr <function <lambda> at 0x10a0a7f70> {'ecl': 'grn', 'hgt': '61in', 'iyr': '1925', 'byr': '1984', 'hcl': '#733820', 'pid': '216995428', 'eyr': '1944'} <class 'AssertionError'> \n",
      "hgt <function <lambda> at 0x10a0a7940> {'byr': '1969', 'hcl': '#a97842', 'cid': '226', 'iyr': '2011', 'pid': '621770561', 'eyr': '2024', 'ecl': 'blu'} <class 'KeyError'> 'hgt'\n",
      "hgt <function <lambda> at 0x10a0a7940> {'hcl': '#efcc98', 'eyr': '2024', 'iyr': '2010', 'ecl': 'hzl', 'pid': '153620883', 'byr': '1957'} <class 'KeyError'> 'hgt'\n",
      "hgt <function <lambda> at 0x10a0a7940> {'iyr': '2015', 'cid': '162', 'eyr': '2020', 'pid': '89806820', 'byr': '1955', 'hcl': 'b043dd', 'ecl': 'brn'} <class 'KeyError'> 'hgt'\n",
      "byr <function <lambda> at 0x10a0a7430> {'hgt': '162cm', 'hcl': '2ee8db', 'byr': '2008', 'iyr': '2003', 'pid': '50279629', 'eyr': '2030', 'ecl': 'grt'} <class 'AssertionError'> \n",
      "byr <function <lambda> at 0x10a0a7430> {'hgt': '83', 'ecl': 'hzl', 'hcl': 'z', 'eyr': '2026', 'byr': '2029'} <class 'AssertionError'> \n",
      "hgt <function <lambda> at 0x10a0a7940> {'cid': '244', 'hcl': '#623a2f', 'iyr': '2012', 'pid': '527925497', 'byr': '1957', 'eyr': '2024', 'ecl': 'brn'} <class 'KeyError'> 'hgt'\n",
      "byr <function <lambda> at 0x10a0a7430> {'byr': '2009', 'ecl': '#893922', 'iyr': '2020', 'hcl': 'a59633', 'hgt': '170in', 'eyr': '1995', 'pid': '28540793'} <class 'AssertionError'> \n",
      "iyr <function <lambda> at 0x10a0a7f70> {'byr': '1955', 'hgt': '68cm', 'hcl': '#67dac3', 'eyr': '2031', 'pid': '502641687', 'ecl': 'oth', 'iyr': '1922'} <class 'AssertionError'> \n",
      "iyr <function <lambda> at 0x10a0a7f70> {'pid': '2523045951', 'cid': '203', 'hgt': '75cm', 'eyr': '2031', 'hcl': '#888785', 'iyr': '1937', 'byr': '1988'} <class 'AssertionError'> \n",
      "hcl <function <lambda> at 0x10a0a7d30> {'byr': '1958', 'iyr': '2019', 'hgt': '163cm', 'eyr': '2029', 'pid': '384542472', 'hcl': '819959', 'ecl': '#866be8'} <class 'AssertionError'> \n",
      "byr <function <lambda> at 0x10a0a7430> {'iyr': '2027', 'pid': '7267919678', 'byr': '2013', 'hgt': '161in', 'hcl': 'z', 'ecl': 'brn'} <class 'AssertionError'> \n",
      "pid <function <lambda> at 0x10a0a7dc0> {'eyr': '2024', 'byr': '1983', 'ecl': 'gry', 'hgt': '154cm', 'iyr': '2019', 'pid': '#f331f5', 'hcl': '#7d3b0c', 'cid': '315'} <class 'AssertionError'> \n",
      "ecl <function <lambda> at 0x10a0a7550> {'cid': '203', 'eyr': '2028', 'iyr': '2019', 'byr': '1939', 'hcl': '#18171d', 'pid': '091534428', 'hgt': '175cm'} <class 'KeyError'> 'ecl'\n",
      "byr <function <lambda> at 0x10a0a7430> {'byr': '2015', 'pid': '164cm', 'hgt': '90', 'eyr': '2036', 'iyr': '1947', 'hcl': 'b7b0e6', 'ecl': '#fd96b3'} <class 'AssertionError'> \n",
      "hcl <function <lambda> at 0x10a0a7d30> {'eyr': '2029', 'cid': '264', 'pid': '931433692', 'byr': '1974', 'ecl': 'oth', 'hcl': 'z', 'hgt': '67in', 'iyr': '2012'} <class 'AssertionError'> \n",
      "byr <function <lambda> at 0x10a0a7430> {'pid': '179cm', 'ecl': '#00a56d', 'eyr': '2025', 'hcl': 'eed83e', 'iyr': '1949', 'hgt': '177in'} <class 'KeyError'> 'byr'\n",
      "iyr <function <lambda> at 0x10a0a7f70> {'hgt': '159cm', 'ecl': 'blu', 'pid': '5642951907', 'iyr': '2029', 'byr': '1952', 'hcl': '#6b5442'} <class 'AssertionError'> \n",
      "ecl <function <lambda> at 0x10a0a7550> {'byr': '1953', 'hgt': '190cm', 'pid': '156cm', 'hcl': '#7d3b0c', 'eyr': '2022', 'ecl': '#1b0b35', 'iyr': '2015'} <class 'AssertionError'> \n",
      "hgt <function <lambda> at 0x10a0a7940> {'pid': '709465009', 'byr': '1971', 'iyr': '2018', 'hcl': '#602927', 'ecl': 'oth', 'cid': '222', 'eyr': '2025'} <class 'KeyError'> 'hgt'\n",
      "iyr <function <lambda> at 0x10a0a7f70> {'ecl': 'blu', 'iyr': '1924', 'pid': '866797032', 'hgt': '193cm', 'cid': '90', 'hcl': '#fffffd', 'eyr': '1998', 'byr': '1990'} <class 'AssertionError'> \n",
      "iyr <function <lambda> at 0x10a0a7f70> {'hcl': 'z', 'ecl': '#769ca0', 'pid': '180cm', 'byr': '1922', 'iyr': '2026', 'eyr': '2028', 'hgt': '180cm'} <class 'AssertionError'> \n",
      "iyr <function <lambda> at 0x10a0a7f70> {'ecl': 'lzr', 'byr': '1967', 'pid': '50313895', 'hcl': '34441e', 'hgt': '158in', 'iyr': '2030', 'eyr': '2039'} <class 'AssertionError'> \n",
      "byr <function <lambda> at 0x10a0a7430> {'iyr': '2025', 'pid': '2210753', 'byr': '2010', 'hgt': '173cm', 'cid': '208', 'eyr': '2008', 'hcl': 'de66d6', 'ecl': 'grt'} <class 'AssertionError'> \n",
      "byr <function <lambda> at 0x10a0a7430> {'byr': '2018', 'cid': '150', 'eyr': '2033', 'pid': '043853978', 'iyr': '2017', 'hgt': '61cm', 'hcl': 'z', 'ecl': '#f19d87'} <class 'AssertionError'> \n",
      "byr <function <lambda> at 0x10a0a7430> {'ecl': 'zzz', 'eyr': '2034', 'byr': '2022', 'pid': '52407584', 'iyr': '2016', 'hcl': '#888785', 'hgt': '176in'} <class 'AssertionError'> \n",
      "byr <function <lambda> at 0x10a0a7430> {'ecl': '#535e3c', 'hgt': '84', 'eyr': '1963', 'hcl': 'z', 'iyr': '1986', 'pid': '187cm', 'byr': '2028', 'cid': '258'} <class 'AssertionError'> \n",
      "byr <function <lambda> at 0x10a0a7430> {'eyr': '2029', 'cid': '257', 'hgt': '175cm', 'ecl': 'oth', 'iyr': '2016', 'hcl': '#602927', 'pid': '506432649'} <class 'KeyError'> 'byr'\n",
      "hcl <function <lambda> at 0x10a0a7d30> {'iyr': '2015', 'hgt': '165cm', 'ecl': 'gmt', 'cid': '116', 'hcl': 'z', 'byr': '1998', 'eyr': '2021', 'pid': '170cm'} <class 'AssertionError'> \n",
      "byr <function <lambda> at 0x10a0a7430> {'iyr': '2023', 'hgt': '178cm', 'cid': '109', 'pid': '#6eca6e', 'hcl': '#7d3b0c', 'eyr': '1961', 'ecl': 'xry', 'byr': '2012'} <class 'AssertionError'> \n",
      "iyr <function <lambda> at 0x10a0a7f70> {'hcl': '#866857', 'pid': '85618849', 'ecl': 'brn', 'byr': '1958', 'eyr': '2025', 'hgt': '111', 'cid': '190'} <class 'KeyError'> 'iyr'\n",
      "iyr <function <lambda> at 0x10a0a7f70> {'hgt': '75cm', 'byr': '1983', 'iyr': '2000', 'eyr': '2007', 'cid': '307', 'pid': '227345093', 'ecl': '#080923', 'hcl': '#ceb3a1'} <class 'AssertionError'> \n",
      "eyr <function <lambda> at 0x10a0a7af0> {'eyr': '1920', 'pid': '873476029', 'hgt': '192cm', 'byr': '1971', 'ecl': 'gry', 'iyr': '2020', 'hcl': '#f463f6'} <class 'AssertionError'> \n",
      "hgt <function <lambda> at 0x10a0a7940> {'iyr': '2010', 'ecl': 'grn', 'hgt': '63cm', 'eyr': '2027', 'hcl': '#602927', 'pid': '240973955', 'byr': '1984', 'cid': '280'} <class 'AssertionError'> \n",
      "hcl <function <lambda> at 0x10a0a7d30> {'pid': '883408516', 'eyr': '2022', 'iyr': '2010', 'hgt': '182cm', 'ecl': 'hzl', 'byr': '2000', 'cid': '220'} <class 'KeyError'> 'hcl'\n",
      "hgt <function <lambda> at 0x10a0a7940> {'iyr': '2018', 'pid': '026680847', 'cid': '117', 'hcl': '#602927', 'hgt': '67cm', 'ecl': 'xry', 'eyr': '2030', 'byr': '1989'} <class 'AssertionError'> \n",
      "byr <function <lambda> at 0x10a0a7430> {'ecl': '#564a01', 'hgt': '136', 'iyr': '1984', 'pid': '#646419', 'eyr': '2032', 'hcl': 'z'} <class 'KeyError'> 'byr'\n",
      "byr <function <lambda> at 0x10a0a7430> {'hgt': '71in', 'hcl': '14d37b', 'byr': '2017', 'cid': '243', 'ecl': 'zzz', 'pid': '208245975', 'iyr': '2029'} <class 'AssertionError'> \n",
      "pid <function <lambda> at 0x10a0a7dc0> {'iyr': '2010', 'byr': '1948', 'hgt': '169cm', 'eyr': '2022', 'hcl': '#623a2f', 'cid': '93', 'ecl': 'hzl'} <class 'KeyError'> 'pid'\n",
      "byr <function <lambda> at 0x10a0a7430> {'cid': '319', 'eyr': '2026', 'iyr': '2013', 'hgt': '155in', 'hcl': 'z', 'pid': '185cm'} <class 'KeyError'> 'byr'\n",
      "pid <function <lambda> at 0x10a0a7dc0> {'eyr': '2025', 'pid': '78761845', 'hcl': '#866857', 'iyr': '2019', 'hgt': '173cm', 'ecl': 'blu', 'byr': '1936'} <class 'AssertionError'> \n",
      "iyr <function <lambda> at 0x10a0a7f70> {'eyr': '2028', 'hgt': '192cm', 'byr': '1946', 'pid': '897533472', 'ecl': 'brn', 'hcl': '#efcc98'} <class 'KeyError'> 'iyr'\n",
      "ecl <function <lambda> at 0x10a0a7550> {'pid': '467427172', 'hcl': '#efcc98', 'eyr': '2021', 'byr': '1923', 'iyr': '2012', 'cid': '139', 'hgt': '176cm'} <class 'KeyError'> 'ecl'\n",
      "hcl <function <lambda> at 0x10a0a7d30> {'ecl': 'brn', 'hgt': '173cm', 'eyr': '2022', 'iyr': '2010', 'pid': '525711593', 'byr': '1990'} <class 'KeyError'> 'hcl'\n",
      "eyr <function <lambda> at 0x10a0a7af0> {'cid': '130', 'hgt': '187in', 'eyr': '2040', 'ecl': 'brn', 'iyr': '2020', 'hcl': 'z', 'pid': '7364218001', 'byr': '1949'} <class 'AssertionError'> \n",
      "byr <function <lambda> at 0x10a0a7430> {'hcl': '#6b5442', 'eyr': '2024', 'pid': '7727182081', 'iyr': '2017', 'hgt': '110', 'ecl': 'dne'} <class 'KeyError'> 'byr'\n",
      "pid <function <lambda> at 0x10a0a7dc0> {'iyr': '2018', 'byr': '1929', 'ecl': 'brn', 'hgt': '60in', 'eyr': '2024', 'pid': '152cm', 'hcl': '#a97842'} <class 'AssertionError'> \n",
      "iyr <function <lambda> at 0x10a0a7f70> {'hgt': '187cm', 'pid': '958933966', 'ecl': 'hzl', 'byr': '1955', 'eyr': '2027', 'hcl': '#6b5442'} <class 'KeyError'> 'iyr'\n",
      "byr <function <lambda> at 0x10a0a7430> {'hgt': '187cm', 'iyr': '2008', 'pid': '151cm', 'ecl': 'blu', 'eyr': '1954'} <class 'KeyError'> 'byr'\n",
      "byr <function <lambda> at 0x10a0a7430> {'byr': '2014', 'pid': '9029821667', 'hgt': '59cm', 'eyr': '2035', 'hcl': 'e9c79a', 'iyr': '2010'} <class 'AssertionError'> \n",
      "iyr <function <lambda> at 0x10a0a7f70> {'eyr': '2027', 'pid': '#d676d0', 'hcl': 'd2fcfa', 'hgt': '154cm', 'ecl': 'hzl', 'byr': '1938'} <class 'KeyError'> 'iyr'\n",
      "hcl <function <lambda> at 0x10a0a7d30> {'ecl': 'lzr', 'hgt': '61in', 'eyr': '2025', 'pid': '556812665', 'byr': '1923', 'iyr': '2019', 'hcl': 'e962ed'} <class 'AssertionError'> \n",
      "iyr <function <lambda> at 0x10a0a7f70> {'hcl': 'z', 'pid': '#8d311d', 'iyr': '2023', 'hgt': '71cm', 'byr': '1923', 'ecl': 'zzz', 'eyr': '2039'} <class 'AssertionError'> \n",
      "byr <function <lambda> at 0x10a0a7430> {'byr': '2028', 'iyr': '2013', 'ecl': '#376cda', 'eyr': '1928', 'pid': '#c135ce', 'hcl': 'z', 'hgt': '185in'} <class 'AssertionError'> \n",
      "byr <function <lambda> at 0x10a0a7430> {'hcl': '100344', 'iyr': '1933', 'eyr': '2023', 'hgt': '71cm', 'byr': '2010', 'ecl': '#6a8007', 'pid': '90001213'} <class 'AssertionError'> \n",
      "ecl <function <lambda> at 0x10a0a7550> {'iyr': '2012', 'byr': '1987', 'eyr': '2020', 'hgt': '190cm', 'cid': '298', 'hcl': '#866857'} <class 'KeyError'> 'ecl'\n",
      "iyr <function <lambda> at 0x10a0a7f70> {'hgt': '173cm', 'pid': '527615519', 'eyr': '2024', 'hcl': '#602927', 'byr': '1949', 'ecl': 'oth', 'cid': '328'} <class 'KeyError'> 'iyr'\n",
      "iyr <function <lambda> at 0x10a0a7f70> {'pid': '679489285', 'hgt': '153cm', 'byr': '1963', 'hcl': '#602927', 'eyr': '2026', 'ecl': 'blu'} <class 'KeyError'> 'iyr'\n",
      "iyr <function <lambda> at 0x10a0a7f70> {'hgt': '172cm', 'hcl': '#888785', 'eyr': '2022', 'pid': '377797887', 'byr': '1980'} <class 'KeyError'> 'iyr'\n",
      "byr <function <lambda> at 0x10a0a7430> {'hcl': 'z', 'pid': '399837694', 'iyr': '2018', 'ecl': '#33e59d', 'eyr': '2038', 'hgt': '60in'} <class 'KeyError'> 'byr'\n",
      "byr <function <lambda> at 0x10a0a7430> {'ecl': 'grn', 'hcl': '#c0946f', 'byr': '2028', 'iyr': '2016', 'pid': '950191991', 'hgt': '193cm', 'cid': '93', 'eyr': '1935'} <class 'AssertionError'> \n",
      "byr <function <lambda> at 0x10a0a7430> {'iyr': '2008', 'cid': '229', 'byr': '2023', 'eyr': '2022', 'hcl': '#341e13', 'ecl': 'grn', 'hgt': '70in', 'pid': '104660281'} <class 'AssertionError'> \n",
      "byr <function <lambda> at 0x10a0a7430> {'iyr': '2030', 'pid': '152cm', 'cid': '297', 'ecl': '#75a512', 'hcl': 'z', 'hgt': '156in', 'byr': '2006', 'eyr': '2035'} <class 'AssertionError'> \n",
      "pid <function <lambda> at 0x10a0a7dc0> {'iyr': '2012', 'hcl': '#18171d', 'eyr': '2025', 'hgt': '188cm', 'ecl': 'blu', 'byr': '1976'} <class 'KeyError'> 'pid'\n",
      "pid <function <lambda> at 0x10a0a7dc0> {'iyr': '2018', 'hgt': '157cm', 'hcl': '#b6652a', 'ecl': 'oth', 'byr': '2002', 'eyr': '2023'} <class 'KeyError'> 'pid'\n",
      "hgt <function <lambda> at 0x10a0a7940> {'byr': '1966', 'ecl': 'grn', 'pid': '597443937', 'iyr': '2014', 'eyr': '2029'} <class 'KeyError'> 'hgt'\n",
      "hcl <function <lambda> at 0x10a0a7d30> {'pid': '306301971', 'ecl': '#a145cc', 'hcl': 'z', 'iyr': '2018', 'cid': '325', 'eyr': '2023', 'byr': '1942', 'hgt': '157cm'} <class 'AssertionError'> \n",
      "byr <function <lambda> at 0x10a0a7430> {'iyr': '1922', 'ecl': 'gmt', 'eyr': '1963', 'pid': '#d1a6f3', 'hcl': 'z', 'byr': '2015', 'hgt': '153in'} <class 'AssertionError'> \n",
      "byr <function <lambda> at 0x10a0a7430> {'eyr': '2022', 'ecl': 'gry', 'hgt': '156cm', 'pid': '640711969', 'hcl': '#cfa07d'} <class 'KeyError'> 'byr'\n",
      "eyr <function <lambda> at 0x10a0a7af0> {'ecl': 'grn', 'eyr': '1980', 'pid': '385212564', 'hcl': '5b27f7', 'hgt': '160cm', 'iyr': '2016', 'cid': '171', 'byr': '1990'} <class 'AssertionError'> \n",
      "ecl <function <lambda> at 0x10a0a7550> {'byr': '1969', 'eyr': '2021', 'iyr': '2012', 'pid': '318752605', 'hgt': '179cm', 'cid': '81', 'hcl': '#888785'} <class 'KeyError'> 'ecl'\n",
      "pid <function <lambda> at 0x10a0a7dc0> {'eyr': '2020', 'iyr': '2012', 'hgt': '150cm', 'hcl': '#c0946f', 'byr': '1924', 'ecl': 'amb'} <class 'KeyError'> 'pid'\n",
      "ecl <function <lambda> at 0x10a0a7550> {'iyr': '2013', 'pid': '909258239', 'byr': '1970', 'ecl': 'utc', 'eyr': '2026', 'cid': '312', 'hgt': '158cm', 'hcl': '#18171d'} <class 'AssertionError'> \n",
      "hgt <function <lambda> at 0x10a0a7940> {'hcl': 'de3776', 'eyr': '2021', 'cid': '234', 'ecl': '#160982', 'iyr': '2017', 'byr': '1992'} <class 'KeyError'> 'hgt'\n",
      "byr <function <lambda> at 0x10a0a7430> {'eyr': '2025', 'hcl': '#fffffd', 'pid': '776551474', 'ecl': 'hzl', 'hgt': '169cm', 'iyr': '2017'} <class 'KeyError'> 'byr'\n",
      "byr <function <lambda> at 0x10a0a7430> {'hgt': '71cm', 'ecl': '#c6c47f', 'byr': '2028', 'iyr': '1994', 'eyr': '2030', 'pid': '0684877002', 'cid': '237', 'hcl': '#341e13'} <class 'AssertionError'> \n",
      "ecl <function <lambda> at 0x10a0a7550> {'eyr': '2030', 'hcl': '#a97842', 'hgt': '188cm', 'byr': '2000', 'pid': '262013450', 'iyr': '2018'} <class 'KeyError'> 'ecl'\n",
      "eyr <function <lambda> at 0x10a0a7af0> {'hgt': '74in', 'byr': '1955', 'ecl': 'blu', 'iyr': '2012', 'hcl': '#341e13', 'pid': '165688658'} <class 'KeyError'> 'eyr'\n",
      "hgt <function <lambda> at 0x10a0a7940> {'eyr': '2021', 'iyr': '2015', 'hcl': '3a6401', 'byr': '1997', 'ecl': 'blu', 'pid': '188cm', 'hgt': '166in'} <class 'AssertionError'> \n",
      "eyr <function <lambda> at 0x10a0a7af0> {'ecl': 'blu', 'iyr': '2010', 'byr': '1984', 'hgt': '183', 'pid': '306571244', 'hcl': '#623a2f', 'eyr': '2033', 'cid': '113'} <class 'AssertionError'> \n",
      "byr <function <lambda> at 0x10a0a7430> {'ecl': '#804adb', 'byr': '2004', 'hgt': '181cm', 'hcl': '#623a2f', 'eyr': '2040', 'pid': '#57e9d1', 'iyr': '2028', 'cid': '97'} <class 'AssertionError'> \n",
      "byr <function <lambda> at 0x10a0a7430> {'hcl': '#a7a05c', 'pid': '0137262572', 'eyr': '2023', 'cid': '350', 'iyr': '2015', 'ecl': '#52d3fe', 'hgt': '190cm', 'byr': '2007'} <class 'AssertionError'> \n",
      "hgt <function <lambda> at 0x10a0a7940> {'pid': '826827136', 'eyr': '2030', 'ecl': 'brn', 'byr': '1946', 'hcl': '#a97842', 'iyr': '2018', 'hgt': '173in'} <class 'AssertionError'> \n",
      "hcl <function <lambda> at 0x10a0a7d30> {'byr': '1967', 'iyr': '2015', 'pid': '142177822', 'hgt': '157cm', 'ecl': 'oth', 'eyr': '2024', 'cid': '221'} <class 'KeyError'> 'hcl'\n",
      "eyr <function <lambda> at 0x10a0a7af0> {'iyr': '2012', 'byr': '1942', 'cid': '187', 'pid': '886132093', 'hgt': '158cm', 'ecl': 'hzl', 'hcl': '#1bc909'} <class 'KeyError'> 'eyr'\n",
      "byr <function <lambda> at 0x10a0a7430> {'hgt': '191in', 'eyr': '2025', 'cid': '128', 'byr': '2021', 'iyr': '2015', 'hcl': '5ed1ae', 'ecl': 'lzr', 'pid': '406311551'} <class 'AssertionError'> \n",
      "byr <function <lambda> at 0x10a0a7430> {'eyr': '2035', 'ecl': 'gmt', 'hcl': '71e1ef', 'iyr': '2023', 'pid': '4347854', 'byr': '2017'} <class 'AssertionError'> \n",
      "iyr <function <lambda> at 0x10a0a7f70> {'iyr': '2024', 'pid': '87644548', 'hgt': '126', 'byr': '1971', 'ecl': 'brn', 'eyr': '2040'} <class 'AssertionError'> \n",
      "byr <function <lambda> at 0x10a0a7430> {'iyr': '2020', 'ecl': 'lzr', 'byr': '2014', 'eyr': '2027', 'pid': '976290173', 'hcl': '#efcc98', 'hgt': '192in'} <class 'AssertionError'> \n",
      "byr <function <lambda> at 0x10a0a7430> {'pid': '034858755', 'hcl': '#d93689', 'iyr': '2012', 'eyr': '2025', 'hgt': '67cm', 'ecl': 'brn', 'byr': '2027', 'cid': '306'} <class 'AssertionError'> \n",
      "byr <function <lambda> at 0x10a0a7430> {'eyr': '2024', 'hcl': '#fffffd', 'ecl': 'hzl', 'hgt': '188cm', 'cid': '199', 'byr': '2015', 'pid': '983962091', 'iyr': '1937'} <class 'AssertionError'> \n",
      "byr <function <lambda> at 0x10a0a7430> {'hcl': '#c0946f', 'pid': '899925634', 'eyr': '2025', 'byr': '2020', 'iyr': '2016', 'ecl': 'grt', 'hgt': '173cm'} <class 'AssertionError'> \n",
      "byr <function <lambda> at 0x10a0a7430> {'hgt': '59cm', 'hcl': 'c5b2d7', 'byr': '2008', 'iyr': '2027', 'ecl': 'lzr', 'pid': '155cm', 'eyr': '2035'} <class 'AssertionError'> \n",
      "byr <function <lambda> at 0x10a0a7430> {'iyr': '2014', 'eyr': '2022', 'pid': '850258746', 'hcl': '#a97842', 'byr': '2022', 'ecl': 'brn', 'hgt': '178cm'} <class 'AssertionError'> \n",
      "iyr <function <lambda> at 0x10a0a7f70> {'byr': '2002', 'cid': '98', 'pid': '828911903', 'eyr': '2030', 'ecl': 'blu', 'hgt': '65in', 'hcl': '#74b1dc'} <class 'KeyError'> 'iyr'\n",
      "ecl <function <lambda> at 0x10a0a7550> {'hcl': '#341e13', 'iyr': '2019', 'hgt': '166cm', 'pid': '419840849', 'byr': '1974', 'eyr': '2026', 'cid': '211'} <class 'KeyError'> 'ecl'\n",
      "hcl <function <lambda> at 0x10a0a7d30> {'byr': '1945', 'pid': '646444288', 'iyr': '2020', 'eyr': '2023', 'hgt': '186cm'} <class 'KeyError'> 'hcl'\n",
      "byr <function <lambda> at 0x10a0a7430> {'hgt': '181in', 'ecl': 'grn', 'eyr': '2034', 'hcl': '#7d3b0c', 'byr': '2018', 'pid': '206240985', 'iyr': '2015'} <class 'AssertionError'> \n",
      "byr <function <lambda> at 0x10a0a7430> {'hgt': '177', 'eyr': '1973', 'pid': '83092851', 'cid': '92', 'ecl': 'utc', 'byr': '2023', 'hcl': 'z', 'iyr': '1948'} <class 'AssertionError'> \n",
      "pid <function <lambda> at 0x10a0a7dc0> {'eyr': '2029', 'pid': '1655089174', 'ecl': 'grn', 'hgt': '158cm', 'iyr': '2011', 'hcl': '#b6652a', 'byr': '1926', 'cid': '158'} <class 'AssertionError'> \n",
      "byr <function <lambda> at 0x10a0a7430> {'hcl': '#341e13', 'iyr': '2006', 'byr': '2008', 'hgt': '185', 'eyr': '2024', 'ecl': 'utc'} <class 'AssertionError'> \n",
      "iyr <function <lambda> at 0x10a0a7f70> {'hcl': '#b6652a', 'pid': '553897602', 'iyr': '1929', 'ecl': 'grn', 'cid': '191', 'hgt': '178cm', 'byr': '1991', 'eyr': '2024'} <class 'AssertionError'> \n",
      "hgt <function <lambda> at 0x10a0a7940> {'ecl': 'grn', 'eyr': '2022', 'byr': '1968', 'iyr': '2017', 'pid': '044109096'} <class 'KeyError'> 'hgt'\n",
      "eyr <function <lambda> at 0x10a0a7af0> {'hcl': '#d257c7', 'eyr': '2036', 'iyr': '2018', 'ecl': '#5b11eb', 'byr': '1950'} <class 'AssertionError'> \n"
     ]
    },
    {
     "data": {
      "text/plain": [
       "121"
      ]
     },
     "execution_count": 23,
     "metadata": {},
     "output_type": "execute_result"
    }
   ],
   "source": [
    "validators = {\n",
    "    \"byr\": lambda x: 1920 <= int(x) <= 2002,\n",
    "    \"iyr\": lambda x: 2010 <= int(x) <= 2020,\n",
    "    \"eyr\": lambda x: 2020 <= int(x) <= 2030,\n",
    "    \"hgt\": lambda x: 150 <= int(x[:-2]) <= 193 if x[-2:] == \"cm\" else 59 <= int(x[:-2]) <= 76 if x[-2:] == \"in\" else False,\n",
    "    \"hcl\": lambda x: len(x) == 7 and x[0] == \"#\" and set(x[1:]) <= set(\"0123456789abcdef\"),\n",
    "    \"ecl\": lambda x: x in \"amb blu brn gry grn hzl oth\".split(),\n",
    "    \"pid\": lambda x: len(x) == 9 and set(x) <= set(\"0123456789\"),\n",
    "}\n",
    "c = 0\n",
    "    \n",
    "def elem(e):\n",
    "    p = dict(kv.split(\":\", 1) for kv in e.split())\n",
    "    for vk, vv in validators.items():\n",
    "        try:\n",
    "            assert vv(p[vk])\n",
    "        except (KeyError, AssertionError) as exc:\n",
    "            if True:\n",
    "                print(vk, vv, p, type(exc), exc)\n",
    "            return False\n",
    "    else:\n",
    "        return True\n",
    "    return False\n",
    "\n",
    "sum(elem(e) for e in inp.split(\"\\n\\n\"))"
   ]
  },
  {
   "cell_type": "markdown",
   "metadata": {},
   "source": [
    "\n",
    "    byr (Birth Year) - four digits; at least 1920 and at most 2002.\n",
    "    iyr (Issue Year) - four digits; at least 2010 and at most 2020.\n",
    "    eyr (Expiration Year) - four digits; at least 2020 and at most 2030.\n",
    "    hgt (Height) - a number followed by either cm or in:\n",
    "        If cm, the number must be at least 150 and at most 193.\n",
    "        If in, the number must be at least 59 and at most 76.\n",
    "    hcl (Hair Color) - a # followed by exactly six characters 0-9 or a-f.\n",
    "    ecl (Eye Color) - exactly one of: amb blu brn gry grn hzl oth.\n",
    "    pid (Passport ID) - a nine-digit number, including leading zeroes.\n",
    "    cid (Country ID) - ignored, missing or not.\n"
   ]
  },
  {
   "cell_type": "code",
   "execution_count": 13,
   "metadata": {},
   "outputs": [
    {
     "data": {
      "text/plain": [
       "False"
      ]
     },
     "execution_count": 13,
     "metadata": {},
     "output_type": "execute_result"
    }
   ],
   "source": [
    "validators[\"hcl\"](\"#7d3b0c\")"
   ]
  },
  {
   "cell_type": "code",
   "execution_count": 16,
   "metadata": {},
   "outputs": [
    {
     "data": {
      "text/plain": [
       "True"
      ]
     },
     "execution_count": 16,
     "metadata": {},
     "output_type": "execute_result"
    }
   ],
   "source": [
    "x = \"#7d3b0c\"\n",
    "len(x) == 7 and x[0] == \"#\" and set(x[1:]) in set(\"0123456789abcdef\")"
   ]
  },
  {
   "cell_type": "code",
   "execution_count": null,
   "metadata": {},
   "outputs": [],
   "source": []
  }
 ],
 "metadata": {
  "kernelspec": {
   "display_name": "Python 3",
   "language": "python",
   "name": "python3"
  },
  "language_info": {
   "codemirror_mode": {
    "name": "ipython",
    "version": 3
   },
   "file_extension": ".py",
   "mimetype": "text/x-python",
   "name": "python",
   "nbconvert_exporter": "python",
   "pygments_lexer": "ipython3",
   "version": "3.8.2"
  }
 },
 "nbformat": 4,
 "nbformat_minor": 4
}
