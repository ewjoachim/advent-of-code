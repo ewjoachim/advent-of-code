{
 "cells": [
  {
   "cell_type": "code",
   "execution_count": 1,
   "metadata": {},
   "outputs": [],
   "source": [
    "import boilerplate\n",
    "l = boilerplate.get_input_lines(2022, 4).splitlines()"
   ]
  },
  {
   "cell_type": "code",
   "execution_count": 4,
   "metadata": {},
   "outputs": [
    {
     "name": "stdout",
     "output_type": "stream",
     "text": [
      "528\n"
     ]
    }
   ],
   "source": [
    "s = 0\n",
    "for e in l:\n",
    "    ra, rb = (set(range(*(int(j) + i for i, j in enumerate(rx.split(\"-\"))))) for rx in e.split(\",\"))\n",
    "    if ra <= rb or rb < ra:\n",
    "        s += 1\n",
    "print(s)"
   ]
  },
  {
   "cell_type": "code",
   "execution_count": 5,
   "metadata": {},
   "outputs": [
    {
     "name": "stdout",
     "output_type": "stream",
     "text": [
      "881\n"
     ]
    }
   ],
   "source": [
    "s = 0\n",
    "for e in l:\n",
    "    ra, rb = (set(range(*(int(j) + i for i, j in enumerate(rx.split(\"-\"))))) for rx in e.split(\",\"))\n",
    "    if ra & rb:\n",
    "        s += 1\n",
    "print(s)"
   ]
  },
  {
   "cell_type": "code",
   "execution_count": null,
   "metadata": {},
   "outputs": [],
   "source": []
  }
 ],
 "metadata": {
  "kernelspec": {
   "display_name": "Python 3.8.10 ('advent-of-code')",
   "language": "python",
   "name": "python3"
  },
  "language_info": {
   "codemirror_mode": {
    "name": "ipython",
    "version": 3
   },
   "file_extension": ".py",
   "mimetype": "text/x-python",
   "name": "python",
   "nbconvert_exporter": "python",
   "pygments_lexer": "ipython3",
   "version": "3.8.10"
  },
  "orig_nbformat": 4,
  "vscode": {
   "interpreter": {
    "hash": "748cf6f10333ddbed3841e6784b9ba61851c4393602f2f38e72974c854bef4ba"
   }
  }
 },
 "nbformat": 4,
 "nbformat_minor": 2
}
